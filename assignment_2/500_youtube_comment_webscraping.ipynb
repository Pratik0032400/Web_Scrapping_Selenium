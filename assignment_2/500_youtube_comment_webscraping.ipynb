{
 "cells": [
  {
   "cell_type": "markdown",
   "id": "c07f574d",
   "metadata": {},
   "source": [
    "Q- 8 Write a program to extract at least 500 Comments, Comment upvote and time when comment was posted\n",
    "from any YouTube Video."
   ]
  },
  {
   "cell_type": "code",
   "execution_count": 2,
   "id": "21cf8b4c",
   "metadata": {},
   "outputs": [],
   "source": [
    "import selenium\n",
    "import pandas as pd\n",
    "from selenium import webdriver\n",
    "import warnings\n",
    "warnings.filterwarnings('ignore')\n",
    "from selenium.common.exceptions import StaleElementReferenceException, NoSuchElementException\n",
    "from selenium.webdriver.common.by import By\n",
    "import time"
   ]
  },
  {
   "cell_type": "code",
   "execution_count": 3,
   "id": "31db0d89",
   "metadata": {},
   "outputs": [],
   "source": [
    "web='https://chromedriver.chromium.org/downloads'"
   ]
  },
  {
   "cell_type": "code",
   "execution_count": 4,
   "id": "c264bef1",
   "metadata": {},
   "outputs": [],
   "source": [
    "driver=webdriver.Chrome(r\"web\")"
   ]
  },
  {
   "cell_type": "code",
   "execution_count": 5,
   "id": "bd2a114d",
   "metadata": {},
   "outputs": [],
   "source": [
    "driver.get(\"https://www.youtube.com/watch?v=tionpZAVPd4\")"
   ]
  },
  {
   "cell_type": "code",
   "execution_count": 6,
   "id": "f6c24bc2",
   "metadata": {},
   "outputs": [],
   "source": [
    "for _ in range(500):\n",
    "    driver.execute_script(\"window.scrollBy(0,500)\")"
   ]
  },
  {
   "cell_type": "code",
   "execution_count": 7,
   "id": "ffa172bd",
   "metadata": {},
   "outputs": [],
   "source": [
    "comment=[]\n",
    "comment_time=[]"
   ]
  },
  {
   "cell_type": "code",
   "execution_count": 8,
   "id": "de4ead57",
   "metadata": {},
   "outputs": [],
   "source": [
    "try:\n",
    "    comment_tags=driver.find_elements(By.XPATH,'//span[@class=\" style-scope ytd-comment-renderer\"]')\n",
    "    for i in comment_tags[0:500]:  \n",
    "        title=(i.text)\n",
    "        comment.append(title)\n",
    "except NoSuchElementException:\n",
    "        comment.append('-')"
   ]
  },
  {
   "cell_type": "code",
   "execution_count": 9,
   "id": "ed849a73",
   "metadata": {},
   "outputs": [],
   "source": [
    "try:\n",
    "    time_tag=driver.find_elements(By.XPATH,'//*[@id=\"header-author\"]/yt-formatted-string/a')\n",
    "    for i in time_tag[0:500]:\n",
    "        cts=(i.text)\n",
    "        comment_time.append(cts)\n",
    "except NoSuchElementException:\n",
    "        comment_time.append('-')"
   ]
  },
  {
   "cell_type": "code",
   "execution_count": 10,
   "id": "b642284a",
   "metadata": {},
   "outputs": [],
   "source": [
    "cmnts = []"
   ]
  },
  {
   "cell_type": "code",
   "execution_count": 11,
   "id": "4dfd0ca8",
   "metadata": {},
   "outputs": [],
   "source": [
    "try:\n",
    "    cmnt=driver.find_elements(By.XPATH,'//yt-formatted-string[@id=\"content-text\"]')\n",
    "    for i in cmnt[0:500]:\n",
    "        cmnts.append(i.text)\n",
    "except NoSuchElementException:\n",
    "    cmnts.append('-')"
   ]
  },
  {
   "cell_type": "code",
   "execution_count": 12,
   "id": "ca4fcf9d",
   "metadata": {},
   "outputs": [
    {
     "data": {
      "text/plain": [
       "(500, 500, 500)"
      ]
     },
     "execution_count": 12,
     "metadata": {},
     "output_type": "execute_result"
    }
   ],
   "source": [
    "len(comment),len(comment_time),len(cmnts)"
   ]
  },
  {
   "cell_type": "code",
   "execution_count": 13,
   "id": "cddb90ba",
   "metadata": {},
   "outputs": [
    {
     "data": {
      "text/html": [
       "<div>\n",
       "<style scoped>\n",
       "    .dataframe tbody tr th:only-of-type {\n",
       "        vertical-align: middle;\n",
       "    }\n",
       "\n",
       "    .dataframe tbody tr th {\n",
       "        vertical-align: top;\n",
       "    }\n",
       "\n",
       "    .dataframe thead th {\n",
       "        text-align: right;\n",
       "    }\n",
       "</style>\n",
       "<table border=\"1\" class=\"dataframe\">\n",
       "  <thead>\n",
       "    <tr style=\"text-align: right;\">\n",
       "      <th></th>\n",
       "      <th>NAME</th>\n",
       "      <th>TIME</th>\n",
       "      <th>COMMENT</th>\n",
       "    </tr>\n",
       "  </thead>\n",
       "  <tbody>\n",
       "    <tr>\n",
       "      <th>0</th>\n",
       "      <td>Deepak Subramaniyan</td>\n",
       "      <td>1 year ago</td>\n",
       "      <td>This song is beyond boundaries. This is dedica...</td>\n",
       "    </tr>\n",
       "    <tr>\n",
       "      <th>1</th>\n",
       "      <td></td>\n",
       "      <td>2 months ago</td>\n",
       "      <td>Whoever’s reading this, I pray that whatever y...</td>\n",
       "    </tr>\n",
       "    <tr>\n",
       "      <th>2</th>\n",
       "      <td>rizwan ghazi</td>\n",
       "      <td>1 month ago</td>\n",
       "      <td>My grand father was a soldier, my father was a...</td>\n",
       "    </tr>\n",
       "    <tr>\n",
       "      <th>3</th>\n",
       "      <td>Subha Laxmi Technology Official</td>\n",
       "      <td>1 month ago</td>\n",
       "      <td>This song in not only for India (Bharat), It i...</td>\n",
       "    </tr>\n",
       "    <tr>\n",
       "      <th>4</th>\n",
       "      <td></td>\n",
       "      <td>3 months ago</td>\n",
       "      <td>Dear parents: Just because your child is smili...</td>\n",
       "    </tr>\n",
       "    <tr>\n",
       "      <th>...</th>\n",
       "      <td>...</td>\n",
       "      <td>...</td>\n",
       "      <td>...</td>\n",
       "    </tr>\n",
       "    <tr>\n",
       "      <th>495</th>\n",
       "      <td>Karan YT</td>\n",
       "      <td>1 month ago</td>\n",
       "      <td>I love indian army ️️️</td>\n",
       "    </tr>\n",
       "    <tr>\n",
       "      <th>496</th>\n",
       "      <td>Chandan Sahu</td>\n",
       "      <td>2 months ago</td>\n",
       "      <td>Ye song sune k dil mein bhut sokun ata hai kas...</td>\n",
       "    </tr>\n",
       "    <tr>\n",
       "      <th>497</th>\n",
       "      <td>RAJA</td>\n",
       "      <td>1 month ago</td>\n",
       "      <td>Salute sir Real Hero's JAI HIND</td>\n",
       "    </tr>\n",
       "    <tr>\n",
       "      <th>498</th>\n",
       "      <td>Thats viral</td>\n",
       "      <td>2 years ago</td>\n",
       "      <td>This song is so emotional specially people who...</td>\n",
       "    </tr>\n",
       "    <tr>\n",
       "      <th>499</th>\n",
       "      <td>Raju kumar Shah</td>\n",
       "      <td>1 month ago</td>\n",
       "      <td>Ye song jitni bar sunta hu utni bar sunne ko D...</td>\n",
       "    </tr>\n",
       "  </tbody>\n",
       "</table>\n",
       "<p>500 rows × 3 columns</p>\n",
       "</div>"
      ],
      "text/plain": [
       "                                NAME          TIME  \\\n",
       "0                Deepak Subramaniyan    1 year ago   \n",
       "1                                     2 months ago   \n",
       "2                       rizwan ghazi   1 month ago   \n",
       "3    Subha Laxmi Technology Official   1 month ago   \n",
       "4                                     3 months ago   \n",
       "..                               ...           ...   \n",
       "495                         Karan YT   1 month ago   \n",
       "496                     Chandan Sahu  2 months ago   \n",
       "497                             RAJA   1 month ago   \n",
       "498                      Thats viral   2 years ago   \n",
       "499                  Raju kumar Shah   1 month ago   \n",
       "\n",
       "                                               COMMENT  \n",
       "0    This song is beyond boundaries. This is dedica...  \n",
       "1    Whoever’s reading this, I pray that whatever y...  \n",
       "2    My grand father was a soldier, my father was a...  \n",
       "3    This song in not only for India (Bharat), It i...  \n",
       "4    Dear parents: Just because your child is smili...  \n",
       "..                                                 ...  \n",
       "495                             I love indian army ️️️  \n",
       "496  Ye song sune k dil mein bhut sokun ata hai kas...  \n",
       "497                    Salute sir Real Hero's JAI HIND  \n",
       "498  This song is so emotional specially people who...  \n",
       "499  Ye song jitni bar sunta hu utni bar sunne ko D...  \n",
       "\n",
       "[500 rows x 3 columns]"
      ]
     },
     "execution_count": 13,
     "metadata": {},
     "output_type": "execute_result"
    }
   ],
   "source": [
    "df=pd.DataFrame({'NAME':comment,'TIME':comment_time,'COMMENT':cmnts})\n",
    "df"
   ]
  },
  {
   "cell_type": "code",
   "execution_count": 14,
   "id": "7bc46a0b",
   "metadata": {},
   "outputs": [],
   "source": [
    "driver.close()"
   ]
  },
  {
   "cell_type": "code",
   "execution_count": null,
   "id": "0f77128c",
   "metadata": {},
   "outputs": [],
   "source": []
  }
 ],
 "metadata": {
  "kernelspec": {
   "display_name": "Python 3 (ipykernel)",
   "language": "python",
   "name": "python3"
  },
  "language_info": {
   "codemirror_mode": {
    "name": "ipython",
    "version": 3
   },
   "file_extension": ".py",
   "mimetype": "text/x-python",
   "name": "python",
   "nbconvert_exporter": "python",
   "pygments_lexer": "ipython3",
   "version": "3.9.13"
  }
 },
 "nbformat": 4,
 "nbformat_minor": 5
}
