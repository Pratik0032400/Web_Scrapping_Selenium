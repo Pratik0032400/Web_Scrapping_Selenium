{
 "cells": [
  {
   "cell_type": "markdown",
   "id": "7f2c6317",
   "metadata": {},
   "source": [
    "Write a python program to scrape a data for all available Hostels from https://www.hostelworld.com/ in\n",
    "“London” location. You have to scrape hostel name, distance from city centre, ratings, total reviews, overall reviews, privates from price, dorms from price, facilities and property description.\n",
    " "
   ]
  },
  {
   "cell_type": "code",
   "execution_count": 1,
   "id": "5253990a",
   "metadata": {},
   "outputs": [],
   "source": [
    "# what will be the XPATH for facility and product description"
   ]
  },
  {
   "cell_type": "code",
   "execution_count": 2,
   "id": "61de8961",
   "metadata": {},
   "outputs": [],
   "source": [
    "import selenium\n",
    "import pandas as pd\n",
    "from selenium import webdriver\n",
    "import warnings\n",
    "warnings.filterwarnings('ignore')\n",
    "from selenium.common.exceptions import StaleElementReferenceException, NoSuchElementException\n",
    "from selenium.webdriver.common.by import By\n",
    "import time"
   ]
  },
  {
   "cell_type": "code",
   "execution_count": 3,
   "id": "ce299a48",
   "metadata": {},
   "outputs": [],
   "source": [
    "web='https://chromedriver.chromium.org/downloads'"
   ]
  },
  {
   "cell_type": "code",
   "execution_count": 4,
   "id": "c9915068",
   "metadata": {},
   "outputs": [],
   "source": [
    "driver=webdriver.Chrome(r\"web\")"
   ]
  },
  {
   "cell_type": "code",
   "execution_count": 5,
   "id": "9c83b797",
   "metadata": {},
   "outputs": [],
   "source": [
    "driver.get(\"https://www.hostelworld.com/\")"
   ]
  },
  {
   "cell_type": "code",
   "execution_count": 7,
   "id": "afd3e466",
   "metadata": {},
   "outputs": [],
   "source": [
    "sea=driver.find_element(By.XPATH,'//*[@id=\"search-input-field\"]')\n",
    "sea.send_keys(\"London\")\n",
    "time.sleep(3)"
   ]
  },
  {
   "cell_type": "code",
   "execution_count": 9,
   "id": "523bfb14",
   "metadata": {},
   "outputs": [],
   "source": [
    "london=driver.find_element(By.XPATH,'//*[@id=\"predicted-search-results\"]/li[2]/div/span')\n",
    "london.click()\n",
    "time.sleep(2)"
   ]
  },
  {
   "cell_type": "code",
   "execution_count": 11,
   "id": "1161e582",
   "metadata": {},
   "outputs": [],
   "source": [
    "clickk=driver.find_element(By.XPATH,'//*[@id=\"search-button\"]')\n",
    "clickk.click()\n",
    "time.sleep(5)"
   ]
  },
  {
   "cell_type": "code",
   "execution_count": 12,
   "id": "f57627d5",
   "metadata": {},
   "outputs": [],
   "source": [
    "hotel = []"
   ]
  },
  {
   "cell_type": "code",
   "execution_count": 13,
   "id": "61e28faf",
   "metadata": {},
   "outputs": [],
   "source": [
    "try:\n",
    "    hname=driver.find_elements(By.XPATH,'//h2[@class=\"title title-6\"]')\n",
    "    for i in hname[0:20]:\n",
    "        h_na=(i.text)\n",
    "        hotel.append(h_na)\n",
    "except NoSuchElementException:\n",
    "        hotel.append('-')"
   ]
  },
  {
   "cell_type": "code",
   "execution_count": 14,
   "id": "51e79f5c",
   "metadata": {},
   "outputs": [
    {
     "data": {
      "text/plain": [
       "20"
      ]
     },
     "execution_count": 14,
     "metadata": {},
     "output_type": "execute_result"
    }
   ],
   "source": [
    "len(hotel)"
   ]
  },
  {
   "cell_type": "code",
   "execution_count": 15,
   "id": "1dd5d3c0",
   "metadata": {},
   "outputs": [],
   "source": [
    "distancecitycenter = []"
   ]
  },
  {
   "cell_type": "code",
   "execution_count": 16,
   "id": "f7f472ba",
   "metadata": {},
   "outputs": [],
   "source": [
    "try:\n",
    "    dcc=driver.find_elements(By.XPATH,'//span[@class=\"description\"]')\n",
    "    for i in dcc[0:20]:\n",
    "        dc_c=(i.text)\n",
    "        distancecitycenter.append(dc_c)\n",
    "except NoSuchElementException:\n",
    "        distancecitycenter.append('-')"
   ]
  },
  {
   "cell_type": "code",
   "execution_count": 17,
   "id": "1a8a17da",
   "metadata": {},
   "outputs": [],
   "source": [
    "rating = []"
   ]
  },
  {
   "cell_type": "code",
   "execution_count": 18,
   "id": "d535fee7",
   "metadata": {},
   "outputs": [],
   "source": [
    "try:\n",
    "    ra_tag=driver.find_elements(By.XPATH,'//div[@class=\"score orange big\"]')\n",
    "    for i in ra_tag[0:20]:\n",
    "        ra=(i.text)\n",
    "        rating.append(ra)\n",
    "except NoSuchElementException:\n",
    "        rating.append('-')"
   ]
  },
  {
   "cell_type": "code",
   "execution_count": 19,
   "id": "f0489508",
   "metadata": {},
   "outputs": [],
   "source": [
    "treview = []"
   ]
  },
  {
   "cell_type": "code",
   "execution_count": 20,
   "id": "4e3b9be6",
   "metadata": {},
   "outputs": [],
   "source": [
    "try:\n",
    "    tre=driver.find_elements(By.XPATH,'//div[@class=\"reviews\"]')\n",
    "    for i in tre[0:20]:\n",
    "        tr=(i.text)\n",
    "        treview.append(tr)\n",
    "except NoSuchElementException:\n",
    "        treview.append('-')"
   ]
  },
  {
   "cell_type": "code",
   "execution_count": 21,
   "id": "220b784f",
   "metadata": {},
   "outputs": [],
   "source": [
    "oreviews = []"
   ]
  },
  {
   "cell_type": "code",
   "execution_count": 22,
   "id": "c9624d55",
   "metadata": {},
   "outputs": [],
   "source": [
    "try:\n",
    "    o_r=driver.find_elements(By.XPATH,'//div[@class=\"keyword\"]')\n",
    "    for i in o_r[0:20]:\n",
    "        osr=(i.text)\n",
    "        oreviews.append(osr)\n",
    "except NoSuchElementException:\n",
    "        oreviews.append('-')"
   ]
  },
  {
   "cell_type": "code",
   "execution_count": 23,
   "id": "8a27c2c6",
   "metadata": {},
   "outputs": [],
   "source": [
    "private_from_price = []"
   ]
  },
  {
   "cell_type": "code",
   "execution_count": 24,
   "id": "f934d608",
   "metadata": {},
   "outputs": [],
   "source": [
    "try:\n",
    "    private_tag=driver.find_elements(By.XPATH,'//div[@class=\"prices-col\"]/a/div[1]')\n",
    "    for i in private_tag[0:20]:\n",
    "        private_from_price.append(i.text)\n",
    "except NoSuchElementException:\n",
    "        private_from_price.append('-')"
   ]
  },
  {
   "cell_type": "code",
   "execution_count": 25,
   "id": "f3300bed",
   "metadata": {},
   "outputs": [],
   "source": [
    "dorms_from_price = []"
   ]
  },
  {
   "cell_type": "code",
   "execution_count": 26,
   "id": "cb92a48b",
   "metadata": {},
   "outputs": [],
   "source": [
    "try:\n",
    "    private=driver.find_elements(By.XPATH,'//div[@class=\"prices-col\"]/a/div[2]')\n",
    "    for i in private[0:20]:\n",
    "        dorms_from_price.append(i.text)\n",
    "except NoSuchElementException:\n",
    "        dorms_from_price.append('-')"
   ]
  },
  {
   "cell_type": "code",
   "execution_count": 27,
   "id": "c6ca3fc1",
   "metadata": {},
   "outputs": [
    {
     "data": {
      "text/plain": [
       "(20, 20, 20, 20, 20, 20, 20)"
      ]
     },
     "execution_count": 27,
     "metadata": {},
     "output_type": "execute_result"
    }
   ],
   "source": [
    "len(hotel),len(distancecitycenter),len(rating),len(treview),len(oreviews),len(private_from_price),len(dorms_from_price)"
   ]
  },
  {
   "cell_type": "code",
   "execution_count": 28,
   "id": "b880d854",
   "metadata": {},
   "outputs": [
    {
     "data": {
      "text/html": [
       "<div>\n",
       "<style scoped>\n",
       "    .dataframe tbody tr th:only-of-type {\n",
       "        vertical-align: middle;\n",
       "    }\n",
       "\n",
       "    .dataframe tbody tr th {\n",
       "        vertical-align: top;\n",
       "    }\n",
       "\n",
       "    .dataframe thead th {\n",
       "        text-align: right;\n",
       "    }\n",
       "</style>\n",
       "<table border=\"1\" class=\"dataframe\">\n",
       "  <thead>\n",
       "    <tr style=\"text-align: right;\">\n",
       "      <th></th>\n",
       "      <th>HOTEL</th>\n",
       "      <th>DISTANCE_CITY_CENTER</th>\n",
       "      <th>RATING</th>\n",
       "      <th>TOTAL_REVIEWS</th>\n",
       "      <th>OVERALL_REVIEWS</th>\n",
       "      <th>PRIVATE PRICE</th>\n",
       "      <th>DORM PRICE</th>\n",
       "    </tr>\n",
       "  </thead>\n",
       "  <tbody>\n",
       "    <tr>\n",
       "      <th>0</th>\n",
       "      <td>Wombat's City Hostel London</td>\n",
       "      <td>Hostel - 3.6km from city centre</td>\n",
       "      <td>8.9</td>\n",
       "      <td>14665 Total Reviews</td>\n",
       "      <td>Very Good</td>\n",
       "      <td>Privates From\\nRs18682.81 Rs14946</td>\n",
       "      <td>Dorms From\\nRs5847.7 Rs4678</td>\n",
       "    </tr>\n",
       "    <tr>\n",
       "      <th>1</th>\n",
       "      <td>St Christopher's Village</td>\n",
       "      <td>Hostel - 1.8km from city centre</td>\n",
       "      <td>7.7</td>\n",
       "      <td>12008 Total Reviews</td>\n",
       "      <td>Fabulous</td>\n",
       "      <td>Privates From\\nRs28296.92 Rs25467</td>\n",
       "      <td>Dorms From\\nRs2594.11 Rs2335</td>\n",
       "    </tr>\n",
       "    <tr>\n",
       "      <th>2</th>\n",
       "      <td>Hostel One Notting Hill</td>\n",
       "      <td>Hostel - 5.5km from city centre</td>\n",
       "      <td>9.4</td>\n",
       "      <td>1857 Total Reviews</td>\n",
       "      <td>Very Good</td>\n",
       "      <td>Privates From\\nRs19841</td>\n",
       "      <td>Dorms From\\nRs6296</td>\n",
       "    </tr>\n",
       "    <tr>\n",
       "      <th>3</th>\n",
       "      <td>Generator London</td>\n",
       "      <td>Hostel - 3km from city centre</td>\n",
       "      <td>7.5</td>\n",
       "      <td>7399 Total Reviews</td>\n",
       "      <td>Superb</td>\n",
       "      <td>Privates From\\nRs20909</td>\n",
       "      <td>Dorms From\\nRs6042</td>\n",
       "    </tr>\n",
       "    <tr>\n",
       "      <th>4</th>\n",
       "      <td>Safestay London Elephant &amp; Castle</td>\n",
       "      <td>Hostel - 1.7km from city centre</td>\n",
       "      <td>7.5</td>\n",
       "      <td>4873 Total Reviews</td>\n",
       "      <td>Very Good</td>\n",
       "      <td>No Privates Available</td>\n",
       "      <td>Dorms From\\nRs3507</td>\n",
       "    </tr>\n",
       "    <tr>\n",
       "      <th>5</th>\n",
       "      <td>NX London Hostel</td>\n",
       "      <td>Hostel - 6.1km from city centre</td>\n",
       "      <td>8.1</td>\n",
       "      <td>1759 Total Reviews</td>\n",
       "      <td>Very Good</td>\n",
       "      <td>No Privates Available</td>\n",
       "      <td>Dorms From\\nRs3830.87 Rs3256</td>\n",
       "    </tr>\n",
       "    <tr>\n",
       "      <th>6</th>\n",
       "      <td>Urbany Hostel London</td>\n",
       "      <td>Hostel - 5.4km from city centre</td>\n",
       "      <td>9.1</td>\n",
       "      <td>700 Total Reviews</td>\n",
       "      <td>Fabulous</td>\n",
       "      <td>Privates From\\nRs17458</td>\n",
       "      <td>Dorms From\\nRs4070</td>\n",
       "    </tr>\n",
       "    <tr>\n",
       "      <th>7</th>\n",
       "      <td>Smart Hyde Park Inn Hostel</td>\n",
       "      <td>Hostel - 5km from city centre</td>\n",
       "      <td>7.3</td>\n",
       "      <td>6544 Total Reviews</td>\n",
       "      <td>Superb</td>\n",
       "      <td>No Privates Available</td>\n",
       "      <td>Dorms From\\nRs3328.06 Rs2995</td>\n",
       "    </tr>\n",
       "    <tr>\n",
       "      <th>8</th>\n",
       "      <td>Smart Russell Square Hostel</td>\n",
       "      <td>Hostel - 2.6km from city centre</td>\n",
       "      <td>7.3</td>\n",
       "      <td>9940 Total Reviews</td>\n",
       "      <td>Very Good</td>\n",
       "      <td>No Privates Available</td>\n",
       "      <td>Dorms From\\nRs3554</td>\n",
       "    </tr>\n",
       "    <tr>\n",
       "      <th>9</th>\n",
       "      <td>Safestay London Kensington Holland Park</td>\n",
       "      <td>Hostel - 5.8km from city centre</td>\n",
       "      <td>7.3</td>\n",
       "      <td>1461 Total Reviews</td>\n",
       "      <td>Very Good</td>\n",
       "      <td>No Privates Available</td>\n",
       "      <td>Dorms From\\nRs2659</td>\n",
       "    </tr>\n",
       "    <tr>\n",
       "      <th>10</th>\n",
       "      <td>No.8 Willesden Hostel London</td>\n",
       "      <td>Hostel - 10km from city centre</td>\n",
       "      <td>6.7</td>\n",
       "      <td>4968 Total Reviews</td>\n",
       "      <td>Very Good</td>\n",
       "      <td>No Privates Available</td>\n",
       "      <td>Dorms From\\nRs2136</td>\n",
       "    </tr>\n",
       "    <tr>\n",
       "      <th>11</th>\n",
       "      <td>Phoenix Hostel</td>\n",
       "      <td>Hostel - 4.2km from city centre</td>\n",
       "      <td>7.2</td>\n",
       "      <td>4014 Total Reviews</td>\n",
       "      <td>Good</td>\n",
       "      <td>No Privates Available</td>\n",
       "      <td>Dorms From\\nRs2761.76 Rs2624</td>\n",
       "    </tr>\n",
       "    <tr>\n",
       "      <th>12</th>\n",
       "      <td>No.8 Seven Sisters</td>\n",
       "      <td>Hostel - 9km from city centre</td>\n",
       "      <td>7.9</td>\n",
       "      <td>3975 Total Reviews</td>\n",
       "      <td>Very Good</td>\n",
       "      <td>No Privates Available</td>\n",
       "      <td>Dorms From\\nRs2237</td>\n",
       "    </tr>\n",
       "    <tr>\n",
       "      <th>13</th>\n",
       "      <td>St Christopher's Camden</td>\n",
       "      <td>Hostel - 4.3km from city centre</td>\n",
       "      <td>7.8</td>\n",
       "      <td>4004 Total Reviews</td>\n",
       "      <td>Rating</td>\n",
       "      <td>No Privates Available</td>\n",
       "      <td>Dorms From\\nRs2833.89 Rs2551</td>\n",
       "    </tr>\n",
       "    <tr>\n",
       "      <th>14</th>\n",
       "      <td>London Backpackers</td>\n",
       "      <td>Hostel - 11.9km from city centre</td>\n",
       "      <td>7.5</td>\n",
       "      <td>4429 Total Reviews</td>\n",
       "      <td>Very Good</td>\n",
       "      <td>Privates From\\nRs6144</td>\n",
       "      <td>Dorms From\\nRs2519</td>\n",
       "    </tr>\n",
       "    <tr>\n",
       "      <th>15</th>\n",
       "      <td>St Christopher's Hammersmith</td>\n",
       "      <td>Hostel - 7.5km from city centre</td>\n",
       "      <td>7.3</td>\n",
       "      <td>4216 Total Reviews</td>\n",
       "      <td>Very Good</td>\n",
       "      <td>No Privates Available</td>\n",
       "      <td>Dorms From\\nRs2684.02 Rs2416</td>\n",
       "    </tr>\n",
       "    <tr>\n",
       "      <th>16</th>\n",
       "      <td>St Christopher's Inn - London Bridge</td>\n",
       "      <td>Hostel - 1.8km from city centre</td>\n",
       "      <td>8.0</td>\n",
       "      <td>3468 Total Reviews</td>\n",
       "      <td>Very Good</td>\n",
       "      <td>No Privates Available</td>\n",
       "      <td>Dorms From\\nRs2870.98 Rs2584</td>\n",
       "    </tr>\n",
       "    <tr>\n",
       "      <th>17</th>\n",
       "      <td>Smart Hyde Park View Hostel</td>\n",
       "      <td>Hostel - 4.8km from city centre</td>\n",
       "      <td>8.0</td>\n",
       "      <td>4681 Total Reviews</td>\n",
       "      <td>Very Good</td>\n",
       "      <td>Privates From\\nRs13299</td>\n",
       "      <td>Dorms From\\nRs4087</td>\n",
       "    </tr>\n",
       "    <tr>\n",
       "      <th>18</th>\n",
       "      <td>PubLove @ The Steam Engine, Waterloo</td>\n",
       "      <td>Hostel - 0.5km from city centre</td>\n",
       "      <td>7.9</td>\n",
       "      <td>378 Total Reviews</td>\n",
       "      <td>Fabulous</td>\n",
       "      <td>No Privates Available</td>\n",
       "      <td>Dorms From\\nRs6238</td>\n",
       "    </tr>\n",
       "    <tr>\n",
       "      <th>19</th>\n",
       "      <td>St Christopher's Inn - Liverpool Street</td>\n",
       "      <td>Hostel - 3.2km from city centre</td>\n",
       "      <td>7.1</td>\n",
       "      <td>483 Total Reviews</td>\n",
       "      <td>Fabulous</td>\n",
       "      <td>No Privates Available</td>\n",
       "      <td>Dorms From\\nRs3320.19 Rs2988</td>\n",
       "    </tr>\n",
       "  </tbody>\n",
       "</table>\n",
       "</div>"
      ],
      "text/plain": [
       "                                      HOTEL              DISTANCE_CITY_CENTER  \\\n",
       "0               Wombat's City Hostel London   Hostel - 3.6km from city centre   \n",
       "1                  St Christopher's Village   Hostel - 1.8km from city centre   \n",
       "2                   Hostel One Notting Hill   Hostel - 5.5km from city centre   \n",
       "3                          Generator London     Hostel - 3km from city centre   \n",
       "4         Safestay London Elephant & Castle   Hostel - 1.7km from city centre   \n",
       "5                          NX London Hostel   Hostel - 6.1km from city centre   \n",
       "6                      Urbany Hostel London   Hostel - 5.4km from city centre   \n",
       "7                Smart Hyde Park Inn Hostel     Hostel - 5km from city centre   \n",
       "8               Smart Russell Square Hostel   Hostel - 2.6km from city centre   \n",
       "9   Safestay London Kensington Holland Park   Hostel - 5.8km from city centre   \n",
       "10             No.8 Willesden Hostel London    Hostel - 10km from city centre   \n",
       "11                           Phoenix Hostel   Hostel - 4.2km from city centre   \n",
       "12                       No.8 Seven Sisters     Hostel - 9km from city centre   \n",
       "13                  St Christopher's Camden   Hostel - 4.3km from city centre   \n",
       "14                       London Backpackers  Hostel - 11.9km from city centre   \n",
       "15             St Christopher's Hammersmith   Hostel - 7.5km from city centre   \n",
       "16     St Christopher's Inn - London Bridge   Hostel - 1.8km from city centre   \n",
       "17              Smart Hyde Park View Hostel   Hostel - 4.8km from city centre   \n",
       "18     PubLove @ The Steam Engine, Waterloo   Hostel - 0.5km from city centre   \n",
       "19  St Christopher's Inn - Liverpool Street   Hostel - 3.2km from city centre   \n",
       "\n",
       "   RATING        TOTAL_REVIEWS OVERALL_REVIEWS  \\\n",
       "0     8.9  14665 Total Reviews       Very Good   \n",
       "1     7.7  12008 Total Reviews        Fabulous   \n",
       "2     9.4   1857 Total Reviews       Very Good   \n",
       "3     7.5   7399 Total Reviews          Superb   \n",
       "4     7.5   4873 Total Reviews       Very Good   \n",
       "5     8.1   1759 Total Reviews       Very Good   \n",
       "6     9.1    700 Total Reviews        Fabulous   \n",
       "7     7.3   6544 Total Reviews          Superb   \n",
       "8     7.3   9940 Total Reviews       Very Good   \n",
       "9     7.3   1461 Total Reviews       Very Good   \n",
       "10    6.7   4968 Total Reviews       Very Good   \n",
       "11    7.2   4014 Total Reviews            Good   \n",
       "12    7.9   3975 Total Reviews       Very Good   \n",
       "13    7.8   4004 Total Reviews          Rating   \n",
       "14    7.5   4429 Total Reviews       Very Good   \n",
       "15    7.3   4216 Total Reviews       Very Good   \n",
       "16    8.0   3468 Total Reviews       Very Good   \n",
       "17    8.0   4681 Total Reviews       Very Good   \n",
       "18    7.9    378 Total Reviews        Fabulous   \n",
       "19    7.1    483 Total Reviews        Fabulous   \n",
       "\n",
       "                        PRIVATE PRICE                    DORM PRICE  \n",
       "0   Privates From\\nRs18682.81 Rs14946   Dorms From\\nRs5847.7 Rs4678  \n",
       "1   Privates From\\nRs28296.92 Rs25467  Dorms From\\nRs2594.11 Rs2335  \n",
       "2              Privates From\\nRs19841            Dorms From\\nRs6296  \n",
       "3              Privates From\\nRs20909            Dorms From\\nRs6042  \n",
       "4               No Privates Available            Dorms From\\nRs3507  \n",
       "5               No Privates Available  Dorms From\\nRs3830.87 Rs3256  \n",
       "6              Privates From\\nRs17458            Dorms From\\nRs4070  \n",
       "7               No Privates Available  Dorms From\\nRs3328.06 Rs2995  \n",
       "8               No Privates Available            Dorms From\\nRs3554  \n",
       "9               No Privates Available            Dorms From\\nRs2659  \n",
       "10              No Privates Available            Dorms From\\nRs2136  \n",
       "11              No Privates Available  Dorms From\\nRs2761.76 Rs2624  \n",
       "12              No Privates Available            Dorms From\\nRs2237  \n",
       "13              No Privates Available  Dorms From\\nRs2833.89 Rs2551  \n",
       "14              Privates From\\nRs6144            Dorms From\\nRs2519  \n",
       "15              No Privates Available  Dorms From\\nRs2684.02 Rs2416  \n",
       "16              No Privates Available  Dorms From\\nRs2870.98 Rs2584  \n",
       "17             Privates From\\nRs13299            Dorms From\\nRs4087  \n",
       "18              No Privates Available            Dorms From\\nRs6238  \n",
       "19              No Privates Available  Dorms From\\nRs3320.19 Rs2988  "
      ]
     },
     "execution_count": 28,
     "metadata": {},
     "output_type": "execute_result"
    }
   ],
   "source": [
    "df=pd.DataFrame({'HOTEL':hotel,'DISTANCE_CITY_CENTER':distancecitycenter,'RATING':rating,'TOTAL_REVIEWS':treview,'OVERALL_REVIEWS':oreviews,'PRIVATE PRICE':private_from_price,'DORM PRICE':dorms_from_price})\n",
    "df"
   ]
  },
  {
   "cell_type": "code",
   "execution_count": 29,
   "id": "a2ce9496",
   "metadata": {},
   "outputs": [],
   "source": [
    "driver.close()"
   ]
  },
  {
   "cell_type": "code",
   "execution_count": null,
   "id": "f95ce7ce",
   "metadata": {},
   "outputs": [],
   "source": []
  }
 ],
 "metadata": {
  "kernelspec": {
   "display_name": "Python 3 (ipykernel)",
   "language": "python",
   "name": "python3"
  },
  "language_info": {
   "codemirror_mode": {
    "name": "ipython",
    "version": 3
   },
   "file_extension": ".py",
   "mimetype": "text/x-python",
   "name": "python",
   "nbconvert_exporter": "python",
   "pygments_lexer": "ipython3",
   "version": "3.9.13"
  }
 },
 "nbformat": 4,
 "nbformat_minor": 5
}
