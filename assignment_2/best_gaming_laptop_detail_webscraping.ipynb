{
 "cells": [
  {
   "cell_type": "code",
   "execution_count": 1,
   "id": "07e0d22c",
   "metadata": {},
   "outputs": [],
   "source": [
    "import selenium\n",
    "import pandas as pd\n",
    "from selenium import webdriver\n",
    "import warnings\n",
    "warnings.filterwarnings('ignore')\n",
    "from selenium.common.exceptions import NoSuchElementException\n",
    "from selenium.webdriver.common.by import By\n",
    "import time\n",
    "import requests"
   ]
  },
  {
   "cell_type": "code",
   "execution_count": 2,
   "id": "b0008c3a",
   "metadata": {},
   "outputs": [],
   "source": [
    "web='https://chromedriver.chromium.org/downloads'"
   ]
  },
  {
   "cell_type": "code",
   "execution_count": 3,
   "id": "eee9d558",
   "metadata": {},
   "outputs": [],
   "source": [
    "driver=webdriver.Chrome(r'web')"
   ]
  },
  {
   "cell_type": "code",
   "execution_count": 4,
   "id": "293fbe58",
   "metadata": {},
   "outputs": [],
   "source": [
    "driver.get(\"https://www.digit.in/\")"
   ]
  },
  {
   "cell_type": "code",
   "execution_count": 5,
   "id": "2233aaec",
   "metadata": {},
   "outputs": [],
   "source": [
    "b_g=driver.find_element(By.XPATH,'/html/body/div[1]/div/div[4]/ul/li[4]/a')\n",
    "b_g.click()"
   ]
  },
  {
   "cell_type": "code",
   "execution_count": 6,
   "id": "26650edd",
   "metadata": {},
   "outputs": [],
   "source": [
    "b_gs=driver.find_element(By.XPATH,'//button[@class=\"tablinks \"]')\n",
    "b_gs.click()"
   ]
  },
  {
   "cell_type": "code",
   "execution_count": 7,
   "id": "2e7b941a",
   "metadata": {},
   "outputs": [],
   "source": [
    "b_gss=driver.find_element(By.XPATH,'/html/body/div[7]/div/div/div[3]/div[2]/ul/li[19]/a')\n",
    "b_gss.click()"
   ]
  },
  {
   "cell_type": "markdown",
   "id": "cded9a73",
   "metadata": {},
   "source": [
    "Write a program to scrap all the available details of best gaming laptops from digit.in."
   ]
  },
  {
   "cell_type": "code",
   "execution_count": 8,
   "id": "6b477b1c",
   "metadata": {},
   "outputs": [],
   "source": [
    "brand = []\n",
    "processor = []\n",
    "memory = []\n",
    "display = []\n",
    "graphic = []\n",
    "price = []"
   ]
  },
  {
   "cell_type": "code",
   "execution_count": 9,
   "id": "467d8c05",
   "metadata": {},
   "outputs": [],
   "source": [
    "Brand_tag=driver.find_elements(By.XPATH,\"//div[@class='left_side']/a/h3\")\n",
    "for i in Brand_tag:   \n",
    "    brand.append(i.text)"
   ]
  },
  {
   "cell_type": "code",
   "execution_count": 10,
   "id": "f82ec139",
   "metadata": {},
   "outputs": [],
   "source": [
    "processor_tag=driver.find_elements(By.XPATH,'/html/body/div[9]/div/div[3]/div[2]/div/div[3]/div[3]/table/tbody/tr[2]/td[3]')\n",
    "for i in processor_tag:\n",
    "    p=(i.text)\n",
    "    processor.append(p)"
   ]
  },
  {
   "cell_type": "code",
   "execution_count": 11,
   "id": "d4854811",
   "metadata": {},
   "outputs": [],
   "source": [
    "memory_tag=driver.find_elements(By.XPATH,'/html/body/div[9]/div/div[3]/div[2]/div/div[3]/div[3]/table/tbody/tr[5]/td[3]')\n",
    "for i in memory_tag:\n",
    "    mt=(i.text)\n",
    "    memory.append(mt)"
   ]
  },
  {
   "cell_type": "code",
   "execution_count": 12,
   "id": "48475bf2",
   "metadata": {},
   "outputs": [],
   "source": [
    "display_tag=driver.find_elements(By.XPATH,'/html/body/div[9]/div/div[3]/div[2]/div/div[3]/div[3]/table/tbody/tr[3]/td[3]')\n",
    "for i in display_tag:\n",
    "    display.append(i.text)"
   ]
  },
  {
   "cell_type": "code",
   "execution_count": 13,
   "id": "944f15ff",
   "metadata": {},
   "outputs": [],
   "source": [
    "graphic_tag=driver.find_elements(By.XPATH,'/html/body/div[9]/div/div[3]/div[2]/div/div[3]/div[3]/table/tbody/tr[6]/td[3]')\n",
    "for i in graphic_tag:\n",
    "    graphic.append(i.text)"
   ]
  },
  {
   "cell_type": "code",
   "execution_count": 14,
   "id": "7de27d83",
   "metadata": {},
   "outputs": [],
   "source": [
    "try:\n",
    "    price_tag=driver.find_elements(By.XPATH,'/html/body/div[9]/div/div[3]/div[2]/div[15]/table/tbody/tr/td[3]')\n",
    "    for i in price_tag:\n",
    "        price.append(i.text)\n",
    "except NoSuchElementException:\n",
    "        bc.append('-')"
   ]
  },
  {
   "cell_type": "code",
   "execution_count": 15,
   "id": "37ea34ad",
   "metadata": {},
   "outputs": [
    {
     "data": {
      "text/plain": [
       "(10, 10, 10, 10, 10, 10)"
      ]
     },
     "execution_count": 15,
     "metadata": {},
     "output_type": "execute_result"
    }
   ],
   "source": [
    "len(brand),len(processor),len(memory),len(display),len(graphic),len(price)"
   ]
  },
  {
   "cell_type": "code",
   "execution_count": 16,
   "id": "dd2da8a1",
   "metadata": {},
   "outputs": [
    {
     "data": {
      "text/html": [
       "<div>\n",
       "<style scoped>\n",
       "    .dataframe tbody tr th:only-of-type {\n",
       "        vertical-align: middle;\n",
       "    }\n",
       "\n",
       "    .dataframe tbody tr th {\n",
       "        vertical-align: top;\n",
       "    }\n",
       "\n",
       "    .dataframe thead th {\n",
       "        text-align: right;\n",
       "    }\n",
       "</style>\n",
       "<table border=\"1\" class=\"dataframe\">\n",
       "  <thead>\n",
       "    <tr style=\"text-align: right;\">\n",
       "      <th></th>\n",
       "      <th>BRAND</th>\n",
       "      <th>PROCESSOR</th>\n",
       "      <th>MEMORY</th>\n",
       "      <th>DISPALY</th>\n",
       "      <th>GRAPHIC</th>\n",
       "      <th>PRICE</th>\n",
       "    </tr>\n",
       "  </thead>\n",
       "  <tbody>\n",
       "    <tr>\n",
       "      <th>0</th>\n",
       "      <td>MSI Titan GT77-12UHS</td>\n",
       "      <td>12th Gen Intel Core i9-12900HX 16 core processor</td>\n",
       "      <td>64 GB DDR5 RAM &amp; 2 TB SSD</td>\n",
       "      <td>17.3″ (3840 x 2160) screen, 120 Hz refresh rate</td>\n",
       "      <td>16 GB DDR6 NVIDIA GeForce RTX 3080 Ti Graphics...</td>\n",
       "      <td>N/A</td>\n",
       "    </tr>\n",
       "    <tr>\n",
       "      <th>1</th>\n",
       "      <td>Lenovo Legion 7</td>\n",
       "      <td>12th Gen Intel Core i9-12900HX 16 core process...</td>\n",
       "      <td>32 GB DDR4 RAM &amp; 1 TB SSD</td>\n",
       "      <td>16″ (2560 x 1600) screen, 165 Hz refresh rate</td>\n",
       "      <td>16 GB DDR6 NVIDIA GeForce RTX 3080 Ti Graphics...</td>\n",
       "      <td>₹ 359,990</td>\n",
       "    </tr>\n",
       "    <tr>\n",
       "      <th>2</th>\n",
       "      <td>Alienware X17 R2</td>\n",
       "      <td>12th Gen Intel Core i9-12900H 14 core processo...</td>\n",
       "      <td>32 GB DDR5 RAM &amp; 1 TB SSD</td>\n",
       "      <td>17.3″ (1920 x 1080) screen, 360 Hz refresh rate</td>\n",
       "      <td>16 GB DDR6 NVIDIA GEFORCE RTX 3080 Ti Graphics...</td>\n",
       "      <td>₹ 389,990</td>\n",
       "    </tr>\n",
       "    <tr>\n",
       "      <th>3</th>\n",
       "      <td>Acer Predator Triton 500 SE PT516-52s</td>\n",
       "      <td>12th Gen Intel Core i7-12700H 14 core processo...</td>\n",
       "      <td>32 GB DDR5 RAM &amp; 2 TB SSD</td>\n",
       "      <td>16″ (2560 x 1600) screen</td>\n",
       "      <td>8 GB DDR6 NVIDIA GeForce RTX 3070 Ti Graphics ...</td>\n",
       "      <td>₹ 229,990</td>\n",
       "    </tr>\n",
       "    <tr>\n",
       "      <th>4</th>\n",
       "      <td>Omen By HP (16-B1371TX)</td>\n",
       "      <td>12th Gen Intel Core i7-12700H 14 core processo...</td>\n",
       "      <td>8 GB DDR5 RAM &amp; 1 TB SSD</td>\n",
       "      <td>16.1″ (2560 x 1440) screen</td>\n",
       "      <td>8 GB GDDR6 NVIDIA GeForce RTX 3070 Graphics card</td>\n",
       "      <td>₹ 177,590</td>\n",
       "    </tr>\n",
       "    <tr>\n",
       "      <th>5</th>\n",
       "      <td>Acer Predator Helios 300 AN515-45</td>\n",
       "      <td>AMD Ryzen 9-5900HX 8 core processor</td>\n",
       "      <td>16 GB DDR4 RAM &amp; 512 GB SSD</td>\n",
       "      <td>15.6″ (2560 x 1440) screen, 165 Hz refresh rate</td>\n",
       "      <td>8 GB DDR6 NVIDIA GeForce RTX 3070 Graphics card</td>\n",
       "      <td>₹ 172,999</td>\n",
       "    </tr>\n",
       "    <tr>\n",
       "      <th>6</th>\n",
       "      <td>MSI Delta 15 (A5EFK-083IN)</td>\n",
       "      <td>AMD 5th Gen Ryzen 9-5900HX 8 core processor wi...</td>\n",
       "      <td>16 GB DDR4 RAM &amp; 1 TB SSD</td>\n",
       "      <td>15.6″ (1920 x 1080) screen, 240Hz refresh rate</td>\n",
       "      <td>10 GB DDR6 AMD Radeon RX 6700M Graphics card</td>\n",
       "      <td>₹ 188,990</td>\n",
       "    </tr>\n",
       "    <tr>\n",
       "      <th>7</th>\n",
       "      <td>Omen By HP (16-C0141AX)</td>\n",
       "      <td>AMD Ryzen™ 9 5900HX 8 core processor with 3.3 ...</td>\n",
       "      <td>16 GB DDR4 RAM &amp; 1 TB NVMe</td>\n",
       "      <td>16.1″ (2560 x 1440) screen</td>\n",
       "      <td>8 GB GDDR6 AMD Radeon™ RX 6600M Graphics card</td>\n",
       "      <td>₹ 124,990</td>\n",
       "    </tr>\n",
       "    <tr>\n",
       "      <th>8</th>\n",
       "      <td>Lenovo Legion 5i Pro (82RF00MGIN)</td>\n",
       "      <td>12th Gen Intel Core i7-12700H 14 core processo...</td>\n",
       "      <td>16 GB DDR5 RAM &amp; 1 TB SSD</td>\n",
       "      <td>16″ (2560 x 1600) screen, 165 Hz refresh rate</td>\n",
       "      <td>6 GB DDR6 NVIDIA GeForce RTX 3060 Graphics card</td>\n",
       "      <td>₹ 164,990</td>\n",
       "    </tr>\n",
       "    <tr>\n",
       "      <th>9</th>\n",
       "      <td>Alienware M15 R5 Ryzen Edition Icc-C780001win</td>\n",
       "      <td>AMD Ryzen R7-5800H 8 core processor with 4.40 ...</td>\n",
       "      <td>16 GB DDR4 RAM &amp; 512 GB SSD</td>\n",
       "      <td>15.6″ (1920 x 1080) screen, 165Hz refresh rate</td>\n",
       "      <td>6 GB DDR6 NVIDIA GeForce RTX 3060 Graphics card</td>\n",
       "      <td>₹ 174,000</td>\n",
       "    </tr>\n",
       "  </tbody>\n",
       "</table>\n",
       "</div>"
      ],
      "text/plain": [
       "                                           BRAND  \\\n",
       "0                           MSI Titan GT77-12UHS   \n",
       "1                                Lenovo Legion 7   \n",
       "2                               Alienware X17 R2   \n",
       "3          Acer Predator Triton 500 SE PT516-52s   \n",
       "4                        Omen By HP (16-B1371TX)   \n",
       "5              Acer Predator Helios 300 AN515-45   \n",
       "6                     MSI Delta 15 (A5EFK-083IN)   \n",
       "7                        Omen By HP (16-C0141AX)   \n",
       "8              Lenovo Legion 5i Pro (82RF00MGIN)   \n",
       "9  Alienware M15 R5 Ryzen Edition Icc-C780001win   \n",
       "\n",
       "                                           PROCESSOR  \\\n",
       "0   12th Gen Intel Core i9-12900HX 16 core processor   \n",
       "1  12th Gen Intel Core i9-12900HX 16 core process...   \n",
       "2  12th Gen Intel Core i9-12900H 14 core processo...   \n",
       "3  12th Gen Intel Core i7-12700H 14 core processo...   \n",
       "4  12th Gen Intel Core i7-12700H 14 core processo...   \n",
       "5                AMD Ryzen 9-5900HX 8 core processor   \n",
       "6  AMD 5th Gen Ryzen 9-5900HX 8 core processor wi...   \n",
       "7  AMD Ryzen™ 9 5900HX 8 core processor with 3.3 ...   \n",
       "8  12th Gen Intel Core i7-12700H 14 core processo...   \n",
       "9  AMD Ryzen R7-5800H 8 core processor with 4.40 ...   \n",
       "\n",
       "                        MEMORY  \\\n",
       "0    64 GB DDR5 RAM & 2 TB SSD   \n",
       "1    32 GB DDR4 RAM & 1 TB SSD   \n",
       "2    32 GB DDR5 RAM & 1 TB SSD   \n",
       "3    32 GB DDR5 RAM & 2 TB SSD   \n",
       "4     8 GB DDR5 RAM & 1 TB SSD   \n",
       "5  16 GB DDR4 RAM & 512 GB SSD   \n",
       "6    16 GB DDR4 RAM & 1 TB SSD   \n",
       "7   16 GB DDR4 RAM & 1 TB NVMe   \n",
       "8    16 GB DDR5 RAM & 1 TB SSD   \n",
       "9  16 GB DDR4 RAM & 512 GB SSD   \n",
       "\n",
       "                                           DISPALY  \\\n",
       "0  17.3″ (3840 x 2160) screen, 120 Hz refresh rate   \n",
       "1    16″ (2560 x 1600) screen, 165 Hz refresh rate   \n",
       "2  17.3″ (1920 x 1080) screen, 360 Hz refresh rate   \n",
       "3                         16″ (2560 x 1600) screen   \n",
       "4                       16.1″ (2560 x 1440) screen   \n",
       "5  15.6″ (2560 x 1440) screen, 165 Hz refresh rate   \n",
       "6   15.6″ (1920 x 1080) screen, 240Hz refresh rate   \n",
       "7                       16.1″ (2560 x 1440) screen   \n",
       "8    16″ (2560 x 1600) screen, 165 Hz refresh rate   \n",
       "9   15.6″ (1920 x 1080) screen, 165Hz refresh rate   \n",
       "\n",
       "                                             GRAPHIC      PRICE  \n",
       "0  16 GB DDR6 NVIDIA GeForce RTX 3080 Ti Graphics...        N/A  \n",
       "1  16 GB DDR6 NVIDIA GeForce RTX 3080 Ti Graphics...  ₹ 359,990  \n",
       "2  16 GB DDR6 NVIDIA GEFORCE RTX 3080 Ti Graphics...  ₹ 389,990  \n",
       "3  8 GB DDR6 NVIDIA GeForce RTX 3070 Ti Graphics ...  ₹ 229,990  \n",
       "4   8 GB GDDR6 NVIDIA GeForce RTX 3070 Graphics card  ₹ 177,590  \n",
       "5    8 GB DDR6 NVIDIA GeForce RTX 3070 Graphics card  ₹ 172,999  \n",
       "6       10 GB DDR6 AMD Radeon RX 6700M Graphics card  ₹ 188,990  \n",
       "7      8 GB GDDR6 AMD Radeon™ RX 6600M Graphics card  ₹ 124,990  \n",
       "8    6 GB DDR6 NVIDIA GeForce RTX 3060 Graphics card  ₹ 164,990  \n",
       "9    6 GB DDR6 NVIDIA GeForce RTX 3060 Graphics card  ₹ 174,000  "
      ]
     },
     "execution_count": 16,
     "metadata": {},
     "output_type": "execute_result"
    }
   ],
   "source": [
    "df=pd.DataFrame({'BRAND':brand,'PROCESSOR':processor,'MEMORY':memory,'DISPALY':display,'GRAPHIC':graphic,'PRICE':price})\n",
    "df"
   ]
  },
  {
   "cell_type": "code",
   "execution_count": 17,
   "id": "40ea8edb",
   "metadata": {},
   "outputs": [],
   "source": [
    "driver.close()"
   ]
  },
  {
   "cell_type": "code",
   "execution_count": null,
   "id": "809e79bd",
   "metadata": {},
   "outputs": [],
   "source": []
  }
 ],
 "metadata": {
  "kernelspec": {
   "display_name": "Python 3 (ipykernel)",
   "language": "python",
   "name": "python3"
  },
  "language_info": {
   "codemirror_mode": {
    "name": "ipython",
    "version": 3
   },
   "file_extension": ".py",
   "mimetype": "text/x-python",
   "name": "python",
   "nbconvert_exporter": "python",
   "pygments_lexer": "ipython3",
   "version": "3.9.13"
  }
 },
 "nbformat": 4,
 "nbformat_minor": 5
}
