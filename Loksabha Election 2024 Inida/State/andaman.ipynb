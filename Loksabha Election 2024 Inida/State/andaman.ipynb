{
 "cells": [
  {
   "cell_type": "code",
   "execution_count": 1,
   "id": "ab17884c",
   "metadata": {},
   "outputs": [],
   "source": [
    "from selenium import webdriver\n",
    "from selenium.webdriver.common.by import By\n",
    "from selenium.webdriver.chrome.service import Service\n",
    "from selenium.webdriver.support.ui import WebDriverWait\n",
    "from selenium.webdriver.support import expected_conditions as EC\n",
    "from webdriver_manager.chrome import ChromeDriverManager\n",
    "import pandas as pd"
   ]
  },
  {
   "cell_type": "code",
   "execution_count": 2,
   "id": "bcb0c422",
   "metadata": {},
   "outputs": [],
   "source": [
    "# Replace 'C:\\path\\to\\chromedriver.exe' with the correct path to chromedriver\n",
    "chromedriver_path = r'C:\\path\\to\\chromedriver.exe'\n"
   ]
  },
  {
   "cell_type": "code",
   "execution_count": 3,
   "id": "69e6b5aa",
   "metadata": {},
   "outputs": [],
   "source": [
    "# Initialize Chrome WebDriver with Service object\n",
    "service = Service(chromedriver_path)\n",
    "driver = webdriver.Chrome(service=service)\n"
   ]
  },
  {
   "cell_type": "code",
   "execution_count": 4,
   "id": "60ac6fbd",
   "metadata": {},
   "outputs": [],
   "source": [
    "# Open the ECI results page\n",
    "driver.get(\"https://results.eci.gov.in/PcResultGenJune2024/index.htm\")"
   ]
  },
  {
   "cell_type": "code",
   "execution_count": 5,
   "id": "2df6ccdb",
   "metadata": {},
   "outputs": [],
   "source": [
    "# Wait for the dropdown element to be clickable and click on it\n",
    "dropdown = WebDriverWait(driver, 10).until(\n",
    "    EC.element_to_be_clickable((By.XPATH, '//*[@id=\"ctl00_ContentPlaceHolder1_Result1_ddlState\"]'))\n",
    ")\n",
    "dropdown.click()"
   ]
  },
  {
   "cell_type": "code",
   "execution_count": 6,
   "id": "ee9db473",
   "metadata": {},
   "outputs": [],
   "source": [
    "# Select the desired state from the dropdown\n",
    "state_option = WebDriverWait(driver, 10).until(\n",
    "    EC.element_to_be_clickable((By.XPATH, \"/html/body/main/div/section/div/div[2]/div[1]/div/div[1]/div/select\"))\n",
    ")\n",
    "state_option.send_keys('Andaman & Nicobar Islands')\n",
    "state_option.click()"
   ]
  },
  {
   "cell_type": "code",
   "execution_count": 7,
   "id": "1956710e",
   "metadata": {},
   "outputs": [],
   "source": [
    "# Wait for the link to the results to be clickable and click on it   /html/body/main/div[2]/section/div/div/div[1]/div/div[2]/div/div/table/tbody/tr/td[2]/a\n",
    "results_link = WebDriverWait(driver, 10).until(\n",
    "    EC.element_to_be_clickable((By.XPATH, '/html/body/main/div[2]/section/div/div/div[1]/div/div[2]/div/div/table/tbody/tr/td[2]/a'))\n",
    ")\n",
    "results_link.click()\n"
   ]
  },
  {
   "cell_type": "code",
   "execution_count": 8,
   "id": "af573b46",
   "metadata": {},
   "outputs": [],
   "source": [
    "# Wait for the link to the results to be clickable and click on it   /html/body/main/div[2]/section/div/div/div[1]/div/div[2]/div/div/table/tbody/tr/td[2]/a\n",
    "results_links = WebDriverWait(driver, 10).until(\n",
    "    EC.element_to_be_clickable((By.XPATH, '/html/body/main/div/div[3]/div/table/tbody/tr/td[2]/a'))\n",
    ")\n",
    "results_links.click()"
   ]
  },
  {
   "cell_type": "code",
   "execution_count": 9,
   "id": "d36324f1",
   "metadata": {},
   "outputs": [],
   "source": [
    "# Wait for the link to the results to be clickable and click on it   /html/body/main/div[2]/section/div/div/div[1]/div/div[2]/div/div/table/tbody/tr/td[2]/a\n",
    "results_linkss = WebDriverWait(driver, 10).until(\n",
    "    EC.element_to_be_clickable((By.XPATH, '/html/body/main/div/div[2]/div[2]/ul/li[2]/a/img'))\n",
    ")\n",
    "results_linkss.click()"
   ]
  },
  {
   "cell_type": "code",
   "execution_count": 10,
   "id": "0054edb0",
   "metadata": {},
   "outputs": [],
   "source": [
    "# Wait for the table containing the results to be visible\n",
    "results_table = WebDriverWait(driver, 10).until(\n",
    "    EC.visibility_of_element_located((By.CLASS_NAME, \"table-responsive\"))\n",
    ")"
   ]
  },
  {
   "cell_type": "code",
   "execution_count": 11,
   "id": "faa3463c",
   "metadata": {},
   "outputs": [],
   "source": [
    "# Extract data from the table\n",
    "rows = results_table.find_elements(By.TAG_NAME, \"tr\")\n",
    "party_results = []"
   ]
  },
  {
   "cell_type": "code",
   "execution_count": 12,
   "id": "55f7296b",
   "metadata": {
    "scrolled": false
   },
   "outputs": [],
   "source": [
    "for row in rows[1:]:  # Skip the header row\n",
    "    cols = row.find_elements(By.TAG_NAME, \"td\")\n",
    "    if cols:\n",
    "        sn = cols[0].text.strip()\n",
    "        c = cols[1].text.strip()\n",
    "        p = cols[2].text.strip()\n",
    "        evm = cols[3].text.strip()\n",
    "        pv = cols[4].text.strip()\n",
    "        tv = cols[5].text.strip()\n",
    "        ov = cols[6].text.strip()\n",
    "        party_results.append({'S.No': sn, 'Candidate': c, 'Party': p, 'EVM Votes': evm, 'Postal Votes': pv, 'Total Votes': tv, 'Percentage of votes': ov})\n"
   ]
  },
  {
   "cell_type": "code",
   "execution_count": 13,
   "id": "81a9bb95",
   "metadata": {},
   "outputs": [],
   "source": [
    "# Convert the results to a DataFrame\n",
    "df = pd.DataFrame(party_results)"
   ]
  },
  {
   "cell_type": "code",
   "execution_count": 14,
   "id": "bd0d9e6a",
   "metadata": {},
   "outputs": [
    {
     "name": "stdout",
     "output_type": "stream",
     "text": [
      "   S.No              Candidate                                        Party  \\\n",
      "0     1        BISHNU PADA RAY                       Bharatiya Janata Party   \n",
      "1     2     KULDEEP RAI SHARMA                     Indian National Congress   \n",
      "2     3             MANOJ PAUL          Andaman Nicobar Democratic Congress   \n",
      "3     4             D AYYAPPAN           Communist Party of India (Marxist)   \n",
      "4     5        V.K. ABDUL AZIZ                                  Independent   \n",
      "5     6         K J B SELVARAJ     All India Anna Dravida Munnetra Kazhagam   \n",
      "6     7   DR ARUN KUMAR MALLIK                          Bahujan Samaj Party   \n",
      "7     8      RINKU MALA MONDAL                                  Independent   \n",
      "8     9      K VENKAT RAM BABU                                  Independent   \n",
      "9    10            USHA KUMARI                                  Independent   \n",
      "10   11         SALAMAT MONDAL  Socialist Unity Centre Of India (COMMUNIST)   \n",
      "11   12  ANAND RAMNATH ARLEKAR                                  Independent   \n",
      "12   13                   NOTA                            None of the Above   \n",
      "\n",
      "   EVM Votes Postal Votes Total Votes Percentage of votes  \n",
      "0     102182          254      102436               50.58  \n",
      "1      77829          211       78040               38.54  \n",
      "2       8236           18        8254                4.08  \n",
      "3       6009            8        6017                2.97  \n",
      "4       2195            8        2203                1.09  \n",
      "5        911            3         914                0.45  \n",
      "6        714            5         719                0.36  \n",
      "7        539            3         542                0.27  \n",
      "8        506            1         507                0.25  \n",
      "9        378            2         380                0.19  \n",
      "10       349            2         351                0.17  \n",
      "11       342            -         342                0.17  \n",
      "12      1802            7        1809                0.89  \n"
     ]
    }
   ],
   "source": [
    "# Print the DataFrame\n",
    "print(df)\n"
   ]
  },
  {
   "cell_type": "code",
   "execution_count": 15,
   "id": "be3949e7",
   "metadata": {},
   "outputs": [],
   "source": [
    "# Save the DataFrame to a CSV file\n",
    "df.to_csv('Constituency_andaman & nicobar wining party.csv', index=False)"
   ]
  },
  {
   "cell_type": "code",
   "execution_count": 16,
   "id": "6d5eeceb",
   "metadata": {},
   "outputs": [],
   "source": [
    "# Close the WebDriver\n",
    "driver.quit()"
   ]
  },
  {
   "cell_type": "code",
   "execution_count": null,
   "id": "3882a372",
   "metadata": {},
   "outputs": [],
   "source": []
  }
 ],
 "metadata": {
  "kernelspec": {
   "display_name": "Python 3 (ipykernel)",
   "language": "python",
   "name": "python3"
  },
  "language_info": {
   "codemirror_mode": {
    "name": "ipython",
    "version": 3
   },
   "file_extension": ".py",
   "mimetype": "text/x-python",
   "name": "python",
   "nbconvert_exporter": "python",
   "pygments_lexer": "ipython3",
   "version": "3.9.12"
  }
 },
 "nbformat": 4,
 "nbformat_minor": 5
}
