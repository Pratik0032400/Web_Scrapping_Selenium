{
 "cells": [
  {
   "cell_type": "code",
   "execution_count": 1,
   "id": "945f902b",
   "metadata": {},
   "outputs": [],
   "source": [
    "import selenium\n",
    "import pandas as pd\n",
    "from selenium import webdriver\n",
    "import warnings\n",
    "warnings.filterwarnings('ignore')\n",
    "from selenium.common.exceptions import NoSuchElementException\n",
    "from selenium.webdriver.common.by import By\n",
    "import time\n",
    "import requests"
   ]
  },
  {
   "cell_type": "code",
   "execution_count": 2,
   "id": "e0ff1d1f",
   "metadata": {},
   "outputs": [],
   "source": [
    "web='https://chromedriver.chromium.org/downloads'"
   ]
  },
  {
   "cell_type": "code",
   "execution_count": 3,
   "id": "aff8f8ab",
   "metadata": {},
   "outputs": [],
   "source": [
    "driver=webdriver.Chrome(r'web')  #\"//div[@class='lister-item-content']/h3/a\""
   ]
  },
  {
   "cell_type": "code",
   "execution_count": 4,
   "id": "6614528c",
   "metadata": {},
   "outputs": [],
   "source": [
    "driver.get(\"https://www.imdb.com/list/ls095964455/\")"
   ]
  },
  {
   "cell_type": "code",
   "execution_count": 5,
   "id": "bd474f5c",
   "metadata": {},
   "outputs": [],
   "source": [
    "name = []\n",
    "year_span = []\n",
    "genre = []\n",
    "run_time = []\n",
    "ratings = []\n",
    "votes = []"
   ]
  },
  {
   "cell_type": "code",
   "execution_count": 6,
   "id": "948f66eb",
   "metadata": {},
   "outputs": [],
   "source": [
    "na=driver.find_elements(By.XPATH,'//div[@class=\"lister-item-content\"]/h3/a')\n",
    "for i in na:\n",
    "    name.append(i.text)"
   ]
  },
  {
   "cell_type": "code",
   "execution_count": 7,
   "id": "f0f13205",
   "metadata": {},
   "outputs": [],
   "source": [
    "y_s=driver.find_elements(By.XPATH,'//span[@class=\"lister-item-year text-muted unbold\"]')\n",
    "for i in y_s:\n",
    "    year_span.append(i.text)"
   ]
  },
  {
   "cell_type": "code",
   "execution_count": 8,
   "id": "b6f00ce6",
   "metadata": {},
   "outputs": [],
   "source": [
    "ge=driver.find_elements(By.XPATH,'//span[@class=\"genre\"]')\n",
    "for i in ge:\n",
    "    genre.append(i.text)"
   ]
  },
  {
   "cell_type": "code",
   "execution_count": 9,
   "id": "eb2edbf1",
   "metadata": {},
   "outputs": [],
   "source": [
    "rt=driver.find_elements(By.XPATH,'//span[@class=\"ipl-rating-star__rating\"]')\n",
    "for i in rt:\n",
    "    ratings.append(i.text)"
   ]
  },
  {
   "cell_type": "code",
   "execution_count": 10,
   "id": "21ab621e",
   "metadata": {},
   "outputs": [],
   "source": [
    "rtt=driver.find_elements(By.XPATH,'//p[@class=\"text-muted text-small\"]')\n",
    "for i in rtt:\n",
    "    run_time.append(i.text)"
   ]
  },
  {
   "cell_type": "code",
   "execution_count": 11,
   "id": "34a5433a",
   "metadata": {},
   "outputs": [],
   "source": [
    "vo=driver.find_elements(By.XPATH,'//p[@class=\"text-muted text-small\"]')\n",
    "for i in vo:\n",
    "    votes.append(i.text)"
   ]
  },
  {
   "cell_type": "code",
   "execution_count": 12,
   "id": "a558a1d8",
   "metadata": {},
   "outputs": [
    {
     "data": {
      "text/html": [
       "<div>\n",
       "<style scoped>\n",
       "    .dataframe tbody tr th:only-of-type {\n",
       "        vertical-align: middle;\n",
       "    }\n",
       "\n",
       "    .dataframe tbody tr th {\n",
       "        vertical-align: top;\n",
       "    }\n",
       "\n",
       "    .dataframe thead th {\n",
       "        text-align: right;\n",
       "    }\n",
       "</style>\n",
       "<table border=\"1\" class=\"dataframe\">\n",
       "  <thead>\n",
       "    <tr style=\"text-align: right;\">\n",
       "      <th></th>\n",
       "      <th>NAME</th>\n",
       "      <th>YEAR_SPAN</th>\n",
       "      <th>GENRE</th>\n",
       "      <th>RUN_TIME</th>\n",
       "      <th>RATING</th>\n",
       "      <th>VOTES</th>\n",
       "    </tr>\n",
       "  </thead>\n",
       "  <tbody>\n",
       "    <tr>\n",
       "      <th>0</th>\n",
       "      <td>Game of Thrones</td>\n",
       "      <td>(2011–2019)</td>\n",
       "      <td>Action, Adventure, Drama</td>\n",
       "      <td>18 | 57 min | Action, Adventure, Drama</td>\n",
       "      <td>9.2</td>\n",
       "      <td>18 | 57 min | Action, Adventure, Drama</td>\n",
       "    </tr>\n",
       "    <tr>\n",
       "      <th>1</th>\n",
       "      <td>Stranger Things</td>\n",
       "      <td>(2016–2024)</td>\n",
       "      <td>Drama, Fantasy, Horror</td>\n",
       "      <td>Stars: Emilia Clarke, Peter Dinklage, Kit Hari...</td>\n",
       "      <td></td>\n",
       "      <td>Stars: Emilia Clarke, Peter Dinklage, Kit Hari...</td>\n",
       "    </tr>\n",
       "    <tr>\n",
       "      <th>2</th>\n",
       "      <td>The Walking Dead</td>\n",
       "      <td>(2010–2022)</td>\n",
       "      <td>Drama, Horror, Thriller</td>\n",
       "      <td>Votes: 2,138,821</td>\n",
       "      <td>Rate</td>\n",
       "      <td>Votes: 2,138,821</td>\n",
       "    </tr>\n",
       "    <tr>\n",
       "      <th>3</th>\n",
       "      <td>13 Reasons Why</td>\n",
       "      <td>(2017–2020)</td>\n",
       "      <td>Drama, Mystery, Thriller</td>\n",
       "      <td>15 | 51 min | Drama, Fantasy, Horror</td>\n",
       "      <td></td>\n",
       "      <td>15 | 51 min | Drama, Fantasy, Horror</td>\n",
       "    </tr>\n",
       "    <tr>\n",
       "      <th>4</th>\n",
       "      <td>The 100</td>\n",
       "      <td>(2014–2020)</td>\n",
       "      <td>Drama, Mystery, Sci-Fi</td>\n",
       "      <td>Stars: Millie Bobby Brown, Finn Wolfhard, Wino...</td>\n",
       "      <td></td>\n",
       "      <td>Stars: Millie Bobby Brown, Finn Wolfhard, Wino...</td>\n",
       "    </tr>\n",
       "    <tr>\n",
       "      <th>...</th>\n",
       "      <td>...</td>\n",
       "      <td>...</td>\n",
       "      <td>...</td>\n",
       "      <td>...</td>\n",
       "      <td>...</td>\n",
       "      <td>...</td>\n",
       "    </tr>\n",
       "    <tr>\n",
       "      <th>94</th>\n",
       "      <td>iZombie</td>\n",
       "      <td>(2015–2019)</td>\n",
       "      <td>Comedy, Crime, Drama</td>\n",
       "      <td>Stars: Rami Malek, Christian Slater, Carly Cha...</td>\n",
       "      <td>Rate</td>\n",
       "      <td>Stars: Rami Malek, Christian Slater, Carly Cha...</td>\n",
       "    </tr>\n",
       "    <tr>\n",
       "      <th>95</th>\n",
       "      <td>Reign</td>\n",
       "      <td>(2013–2017)</td>\n",
       "      <td>Drama</td>\n",
       "      <td>Votes: 394,663</td>\n",
       "      <td></td>\n",
       "      <td>Votes: 394,663</td>\n",
       "    </tr>\n",
       "    <tr>\n",
       "      <th>96</th>\n",
       "      <td>A Series of Unfortunate Events</td>\n",
       "      <td>(2017–2019)</td>\n",
       "      <td>Adventure, Comedy, Drama</td>\n",
       "      <td>15 | 45 min | Drama, Fantasy, Horror</td>\n",
       "      <td></td>\n",
       "      <td>15 | 45 min | Drama, Fantasy, Horror</td>\n",
       "    </tr>\n",
       "    <tr>\n",
       "      <th>97</th>\n",
       "      <td>Criminal Minds</td>\n",
       "      <td>(2005– )</td>\n",
       "      <td>Crime, Drama, Mystery</td>\n",
       "      <td>Stars: Joseph Morgan, Daniel Gillies, Claire H...</td>\n",
       "      <td></td>\n",
       "      <td>Stars: Joseph Morgan, Daniel Gillies, Claire H...</td>\n",
       "    </tr>\n",
       "    <tr>\n",
       "      <th>98</th>\n",
       "      <td>Scream: The TV Series</td>\n",
       "      <td>(2015–2019)</td>\n",
       "      <td>Comedy, Crime, Drama</td>\n",
       "      <td>Votes: 139,269</td>\n",
       "      <td></td>\n",
       "      <td>Votes: 139,269</td>\n",
       "    </tr>\n",
       "  </tbody>\n",
       "</table>\n",
       "<p>99 rows × 6 columns</p>\n",
       "</div>"
      ],
      "text/plain": [
       "                              NAME    YEAR_SPAN                     GENRE  \\\n",
       "0                  Game of Thrones  (2011–2019)  Action, Adventure, Drama   \n",
       "1                  Stranger Things  (2016–2024)    Drama, Fantasy, Horror   \n",
       "2                 The Walking Dead  (2010–2022)   Drama, Horror, Thriller   \n",
       "3                   13 Reasons Why  (2017–2020)  Drama, Mystery, Thriller   \n",
       "4                          The 100  (2014–2020)    Drama, Mystery, Sci-Fi   \n",
       "..                             ...          ...                       ...   \n",
       "94                         iZombie  (2015–2019)      Comedy, Crime, Drama   \n",
       "95                           Reign  (2013–2017)                     Drama   \n",
       "96  A Series of Unfortunate Events  (2017–2019)  Adventure, Comedy, Drama   \n",
       "97                  Criminal Minds     (2005– )     Crime, Drama, Mystery   \n",
       "98           Scream: The TV Series  (2015–2019)      Comedy, Crime, Drama   \n",
       "\n",
       "                                             RUN_TIME RATING  \\\n",
       "0              18 | 57 min | Action, Adventure, Drama    9.2   \n",
       "1   Stars: Emilia Clarke, Peter Dinklage, Kit Hari...          \n",
       "2                                    Votes: 2,138,821   Rate   \n",
       "3                15 | 51 min | Drama, Fantasy, Horror          \n",
       "4   Stars: Millie Bobby Brown, Finn Wolfhard, Wino...          \n",
       "..                                                ...    ...   \n",
       "94  Stars: Rami Malek, Christian Slater, Carly Cha...   Rate   \n",
       "95                                     Votes: 394,663          \n",
       "96               15 | 45 min | Drama, Fantasy, Horror          \n",
       "97  Stars: Joseph Morgan, Daniel Gillies, Claire H...          \n",
       "98                                     Votes: 139,269          \n",
       "\n",
       "                                                VOTES  \n",
       "0              18 | 57 min | Action, Adventure, Drama  \n",
       "1   Stars: Emilia Clarke, Peter Dinklage, Kit Hari...  \n",
       "2                                    Votes: 2,138,821  \n",
       "3                15 | 51 min | Drama, Fantasy, Horror  \n",
       "4   Stars: Millie Bobby Brown, Finn Wolfhard, Wino...  \n",
       "..                                                ...  \n",
       "94  Stars: Rami Malek, Christian Slater, Carly Cha...  \n",
       "95                                     Votes: 394,663  \n",
       "96               15 | 45 min | Drama, Fantasy, Horror  \n",
       "97  Stars: Joseph Morgan, Daniel Gillies, Claire H...  \n",
       "98                                     Votes: 139,269  \n",
       "\n",
       "[99 rows x 6 columns]"
      ]
     },
     "execution_count": 12,
     "metadata": {},
     "output_type": "execute_result"
    }
   ],
   "source": [
    "df=pd.DataFrame({'NAME':name[0:99],'YEAR_SPAN':year_span[0:99],'GENRE':genre[0:99],'RUN_TIME':run_time[0:99],'RATING':ratings[0:99],'VOTES':votes[0:99]})\n",
    "df"
   ]
  },
  {
   "cell_type": "code",
   "execution_count": 13,
   "id": "24405eaf",
   "metadata": {},
   "outputs": [],
   "source": [
    "driver.close()"
   ]
  },
  {
   "cell_type": "code",
   "execution_count": null,
   "id": "9e9de6b8",
   "metadata": {},
   "outputs": [],
   "source": []
  }
 ],
 "metadata": {
  "kernelspec": {
   "display_name": "Python 3 (ipykernel)",
   "language": "python",
   "name": "python3"
  },
  "language_info": {
   "codemirror_mode": {
    "name": "ipython",
    "version": 3
   },
   "file_extension": ".py",
   "mimetype": "text/x-python",
   "name": "python",
   "nbconvert_exporter": "python",
   "pygments_lexer": "ipython3",
   "version": "3.9.13"
  }
 },
 "nbformat": 4,
 "nbformat_minor": 5
}
