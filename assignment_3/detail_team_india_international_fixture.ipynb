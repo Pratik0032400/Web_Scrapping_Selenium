{
 "cells": [
  {
   "cell_type": "code",
   "execution_count": 1,
   "id": "18d72f25",
   "metadata": {},
   "outputs": [],
   "source": [
    "import selenium\n",
    "import pandas as pd\n",
    "from selenium import webdriver\n",
    "import warnings\n",
    "warnings.filterwarnings('ignore')\n",
    "from selenium.common.exceptions import NoSuchElementException\n",
    "from selenium.webdriver.common.by import By\n",
    "import time\n",
    "import requests"
   ]
  },
  {
   "cell_type": "code",
   "execution_count": 2,
   "id": "baeb5382",
   "metadata": {},
   "outputs": [],
   "source": [
    "web='https://chromedriver.chromium.org/downloads'"
   ]
  },
  {
   "cell_type": "code",
   "execution_count": 3,
   "id": "4f7fe8e1",
   "metadata": {},
   "outputs": [],
   "source": [
    "driver=webdriver.Chrome(r'web')"
   ]
  },
  {
   "cell_type": "code",
   "execution_count": 4,
   "id": "a19513fb",
   "metadata": {},
   "outputs": [],
   "source": [
    "driver.get(\" https://www.bcci.tv/.\")"
   ]
  },
  {
   "cell_type": "code",
   "execution_count": 5,
   "id": "08b5c41c",
   "metadata": {},
   "outputs": [],
   "source": [
    "clcik_int=driver.find_element(By.XPATH,'//a[@class=\"nav-link \"]')\n",
    "clcik_int.click()"
   ]
  },
  {
   "cell_type": "code",
   "execution_count": 7,
   "id": "1d388136",
   "metadata": {},
   "outputs": [],
   "source": [
    "click=driver.find_element(By.XPATH,'//*[@id=\"fixtures\"]/div[2]/div/div[3]/div/div[1]')\n",
    "click.click()"
   ]
  },
  {
   "cell_type": "code",
   "execution_count": 8,
   "id": "1b7fc1e6",
   "metadata": {},
   "outputs": [],
   "source": [
    "click1=driver.find_element(By.XPATH,'//*[@id=\"fixtures\"]/div[2]/div/div[3]/div/div[2]/div[3]')\n",
    "click1.click()"
   ]
  },
  {
   "cell_type": "code",
   "execution_count": 16,
   "id": "e87eb939",
   "metadata": {},
   "outputs": [],
   "source": [
    "matchtitle = []\n",
    "place = []\n",
    "date = []\n",
    "time = []\n",
    "series = []"
   ]
  },
  {
   "cell_type": "code",
   "execution_count": 17,
   "id": "6fcb555b",
   "metadata": {},
   "outputs": [],
   "source": [
    "try:\n",
    "    m_t=driver.find_elements(By.XPATH,'//*[@id=\"match-card\"]/div[1]/h5')\n",
    "    for i in m_t[0:10]:\n",
    "        matchtitle.append(i.text)\n",
    "except NoSuchElementException:\n",
    "        matchtitle.append('-')"
   ]
  },
  {
   "cell_type": "code",
   "execution_count": 19,
   "id": "24402f12",
   "metadata": {},
   "outputs": [
    {
     "data": {
      "text/html": [
       "<div>\n",
       "<style scoped>\n",
       "    .dataframe tbody tr th:only-of-type {\n",
       "        vertical-align: middle;\n",
       "    }\n",
       "\n",
       "    .dataframe tbody tr th {\n",
       "        vertical-align: top;\n",
       "    }\n",
       "\n",
       "    .dataframe thead th {\n",
       "        text-align: right;\n",
       "    }\n",
       "</style>\n",
       "<table border=\"1\" class=\"dataframe\">\n",
       "  <thead>\n",
       "    <tr style=\"text-align: right;\">\n",
       "      <th></th>\n",
       "      <th>Match title</th>\n",
       "    </tr>\n",
       "  </thead>\n",
       "  <tbody>\n",
       "    <tr>\n",
       "      <th>0</th>\n",
       "      <td>AUSTRALIA TOUR OF INDIA 2023</td>\n",
       "    </tr>\n",
       "    <tr>\n",
       "      <th>1</th>\n",
       "      <td>AUSTRALIA TOUR OF INDIA 2023</td>\n",
       "    </tr>\n",
       "    <tr>\n",
       "      <th>2</th>\n",
       "      <td>AUSTRALIA TOUR OF INDIA 2023</td>\n",
       "    </tr>\n",
       "  </tbody>\n",
       "</table>\n",
       "</div>"
      ],
      "text/plain": [
       "                    Match title\n",
       "0  AUSTRALIA TOUR OF INDIA 2023\n",
       "1  AUSTRALIA TOUR OF INDIA 2023\n",
       "2  AUSTRALIA TOUR OF INDIA 2023"
      ]
     },
     "execution_count": 19,
     "metadata": {},
     "output_type": "execute_result"
    }
   ],
   "source": [
    "df=pd.DataFrame({'Match title':matchtitle})\n",
    "df"
   ]
  },
  {
   "cell_type": "code",
   "execution_count": 24,
   "id": "9c57426f",
   "metadata": {},
   "outputs": [],
   "source": [
    "try:\n",
    "    pl=driver.find_elements(By.XPATH,'//*[@id=\"match-card\"]/div[3]/div/span[2]')\n",
    "    for i in pl[0:10]:\n",
    "        place.append(i.text)\n",
    "except NoSuchElementException:\n",
    "        place.append('-')"
   ]
  },
  {
   "cell_type": "code",
   "execution_count": 25,
   "id": "9467db50",
   "metadata": {},
   "outputs": [],
   "source": [
    "try:\n",
    "    da=driver.find_elements(By.XPATH,'//*[@id=\"match-card\"]/div[1]/div/div[1]')\n",
    "    for i in da[0:10]:\n",
    "        date.append(i.text)\n",
    "except NoSuchElementException:\n",
    "        date.append('-')"
   ]
  },
  {
   "cell_type": "code",
   "execution_count": 26,
   "id": "36d50795",
   "metadata": {},
   "outputs": [],
   "source": [
    "try:\n",
    "    ti=driver.find_elements(By.XPATH,'//*[@id=\"match-card\"]/div[1]/div/div[2]')\n",
    "    for i in ti[0:10]:\n",
    "        time.append(i.text)\n",
    "except NoSuchElementException:\n",
    "        time.append('-')"
   ]
  },
  {
   "cell_type": "code",
   "execution_count": 27,
   "id": "732e877d",
   "metadata": {},
   "outputs": [
    {
     "data": {
      "text/html": [
       "<div>\n",
       "<style scoped>\n",
       "    .dataframe tbody tr th:only-of-type {\n",
       "        vertical-align: middle;\n",
       "    }\n",
       "\n",
       "    .dataframe tbody tr th {\n",
       "        vertical-align: top;\n",
       "    }\n",
       "\n",
       "    .dataframe thead th {\n",
       "        text-align: right;\n",
       "    }\n",
       "</style>\n",
       "<table border=\"1\" class=\"dataframe\">\n",
       "  <thead>\n",
       "    <tr style=\"text-align: right;\">\n",
       "      <th></th>\n",
       "      <th>MATCH_TITLE</th>\n",
       "      <th>PLACE</th>\n",
       "      <th>DATE</th>\n",
       "      <th>TIME</th>\n",
       "    </tr>\n",
       "  </thead>\n",
       "  <tbody>\n",
       "    <tr>\n",
       "      <th>0</th>\n",
       "      <td>AUSTRALIA TOUR OF INDIA 2023</td>\n",
       "      <td>Wankhede Stadium,</td>\n",
       "      <td>17 MAR 2023</td>\n",
       "      <td>1:30 PM IST</td>\n",
       "    </tr>\n",
       "    <tr>\n",
       "      <th>1</th>\n",
       "      <td>AUSTRALIA TOUR OF INDIA 2023</td>\n",
       "      <td>Dr YS Rajasekhara Reddy ACA-VDCA Cricket Stadium,</td>\n",
       "      <td>19 MAR 2023</td>\n",
       "      <td>1:30 PM IST</td>\n",
       "    </tr>\n",
       "    <tr>\n",
       "      <th>2</th>\n",
       "      <td>AUSTRALIA TOUR OF INDIA 2023</td>\n",
       "      <td>MA Chidambaram Stadium,</td>\n",
       "      <td>22 MAR 2023</td>\n",
       "      <td>1:30 PM IST</td>\n",
       "    </tr>\n",
       "  </tbody>\n",
       "</table>\n",
       "</div>"
      ],
      "text/plain": [
       "                    MATCH_TITLE  \\\n",
       "0  AUSTRALIA TOUR OF INDIA 2023   \n",
       "1  AUSTRALIA TOUR OF INDIA 2023   \n",
       "2  AUSTRALIA TOUR OF INDIA 2023   \n",
       "\n",
       "                                               PLACE         DATE         TIME  \n",
       "0                                  Wankhede Stadium,  17 MAR 2023  1:30 PM IST  \n",
       "1  Dr YS Rajasekhara Reddy ACA-VDCA Cricket Stadium,  19 MAR 2023  1:30 PM IST  \n",
       "2                            MA Chidambaram Stadium,  22 MAR 2023  1:30 PM IST  "
      ]
     },
     "execution_count": 27,
     "metadata": {},
     "output_type": "execute_result"
    }
   ],
   "source": [
    "df=pd.DataFrame({'MATCH_TITLE':matchtitle,'PLACE':place,'DATE':date,'PLACE':place,'TIME':time})\n",
    "df"
   ]
  },
  {
   "cell_type": "code",
   "execution_count": 28,
   "id": "590d252b",
   "metadata": {},
   "outputs": [],
   "source": [
    "driver.close()"
   ]
  },
  {
   "cell_type": "code",
   "execution_count": null,
   "id": "bb10e2d5",
   "metadata": {},
   "outputs": [],
   "source": []
  }
 ],
 "metadata": {
  "kernelspec": {
   "display_name": "Python 3 (ipykernel)",
   "language": "python",
   "name": "python3"
  },
  "language_info": {
   "codemirror_mode": {
    "name": "ipython",
    "version": 3
   },
   "file_extension": ".py",
   "mimetype": "text/x-python",
   "name": "python",
   "nbconvert_exporter": "python",
   "pygments_lexer": "ipython3",
   "version": "3.9.13"
  }
 },
 "nbformat": 4,
 "nbformat_minor": 5
}
