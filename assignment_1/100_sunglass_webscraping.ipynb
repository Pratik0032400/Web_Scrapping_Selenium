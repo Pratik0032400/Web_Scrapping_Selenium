{
 "cells": [
  {
   "cell_type": "code",
   "execution_count": 1,
   "id": "802446f3",
   "metadata": {},
   "outputs": [],
   "source": [
    "#Q4: Scrape data of first 100 sunglasses listings on flipkart.com. You have to scrape four attributes: \n",
    " #       1. Brand 2. Product Description 3. \n",
    "  #      Price The attributes which you have to scrape is ticked marked in the below image\n",
    "\n",
    "#To scrape the data you have to go through following steps: \n",
    "#1. Go to Flipkart webpage by url : https://www.flipkart.com/ \n",
    "#2. Enter “sunglasses” in the search field where “search for products, brands and more” is written and click the search icon \n",
    "#3. After that you will reach to the page having a lot of sunglasses. From this page you can scrap the required data as usual. \n",
    "#4. After scraping data from the first page, go to the “Next” Button at the bottom other page , then click on it. \n",
    "#5. Now scrape data from this page as usual 6. Repeat this until you get data for 100 sunglasses. "
   ]
  },
  {
   "cell_type": "code",
   "execution_count": 2,
   "id": "0dcbe976",
   "metadata": {},
   "outputs": [],
   "source": [
    "import selenium\n",
    "import pandas as pd\n",
    "from selenium import webdriver\n",
    "import warnings\n",
    "warnings.filterwarnings('ignore')\n",
    "from selenium.common.exceptions import StaleElementReferenceException, NoSuchElementException\n",
    "from selenium.webdriver.common.by import By\n",
    "import time"
   ]
  },
  {
   "cell_type": "code",
   "execution_count": 3,
   "id": "758b1701",
   "metadata": {},
   "outputs": [],
   "source": [
    "web='https://chromedriver.chromium.org/downloads'"
   ]
  },
  {
   "cell_type": "code",
   "execution_count": 4,
   "id": "8cded96b",
   "metadata": {},
   "outputs": [],
   "source": [
    "driver=webdriver.Chrome(r'web')"
   ]
  },
  {
   "cell_type": "code",
   "execution_count": 5,
   "id": "19cc98be",
   "metadata": {},
   "outputs": [],
   "source": [
    "driver.get(\"https://www.flipkart.com/ \")"
   ]
  },
  {
   "cell_type": "code",
   "execution_count": 6,
   "id": "07f7460a",
   "metadata": {},
   "outputs": [],
   "source": [
    "item=driver.find_element(By.CLASS_NAME,\"_3704LK\")\n",
    "item.send_keys('sunglasses')"
   ]
  },
  {
   "cell_type": "code",
   "execution_count": 7,
   "id": "5929bc6a",
   "metadata": {},
   "outputs": [],
   "source": [
    "search=driver.find_element(By.CLASS_NAME,\"L0Z3Pu\")\n",
    "search.click()"
   ]
  },
  {
   "cell_type": "code",
   "execution_count": 8,
   "id": "68ad2c4d",
   "metadata": {},
   "outputs": [],
   "source": [
    "# create Empty list\n",
    "brand = []\n",
    "product_description = []\n",
    "prices = []"
   ]
  },
  {
   "cell_type": "code",
   "execution_count": 9,
   "id": "14f9cb90",
   "metadata": {},
   "outputs": [],
   "source": [
    "#scraping brand from the given page  brand_tags - givenpath\n",
    "brand_tags=driver.find_elements(By.XPATH,'//div[@class=\"_2WkVRV\"]')\n",
    "for i in brand_tags:\n",
    "    title=(i.text)\n",
    "    brand.append(title)\n",
    "\n",
    "#scraping product detrail from the given page\n",
    "detail_tags=driver.find_elements(By.XPATH,'//a[@class=\"IRpwTa\"]')\n",
    "for i in detail_tags:\n",
    "    detail=(i.text)\n",
    "    product_description.append(detail)\n",
    "    \n",
    "#scraping price from the given pages\n",
    "price_tags=driver.find_elements(By.XPATH,'//div[@class=\"_25b18c\"]')\n",
    "for i in price_tags:\n",
    "    price=(i.text)\n",
    "    prices.append(price)"
   ]
  },
  {
   "cell_type": "code",
   "execution_count": 10,
   "id": "34a9a1d5",
   "metadata": {},
   "outputs": [
    {
     "data": {
      "text/plain": [
       "(40, 39, 45)"
      ]
     },
     "execution_count": 10,
     "metadata": {},
     "output_type": "execute_result"
    }
   ],
   "source": [
    "length=(len(brand),len(product_description),len(prices))\n",
    "length"
   ]
  },
  {
   "cell_type": "code",
   "execution_count": 11,
   "id": "a746c01f",
   "metadata": {},
   "outputs": [],
   "source": [
    "start=0\n",
    "end=3\n",
    "for page in range(start,end):\n",
    "    br=driver.find_elements(By.XPATH,'//div[@class=\"_2WkVRV\"]')\n",
    "    for i in br:\n",
    "        brand.append(i.text)\n",
    "    next_button=driver.find_element(By.XPATH,'//a[@class=\"_1LKTO3\"]')\n",
    "    next_button.click()\n",
    "    time.sleep(3)"
   ]
  },
  {
   "cell_type": "code",
   "execution_count": 12,
   "id": "fabb42f0",
   "metadata": {},
   "outputs": [
    {
     "data": {
      "text/plain": [
       "160"
      ]
     },
     "execution_count": 12,
     "metadata": {},
     "output_type": "execute_result"
    }
   ],
   "source": [
    "len(brand)"
   ]
  },
  {
   "cell_type": "code",
   "execution_count": 13,
   "id": "f31a8620",
   "metadata": {},
   "outputs": [],
   "source": [
    "start=0\n",
    "end=3\n",
    "for page in range(start,end):\n",
    "    pdr=driver.find_elements(By.XPATH,'//a[@class=\"IRpwTa\"]')\n",
    "    for i in pdr[0:100]:\n",
    "        product_description.append(i.text)\n",
    "    next_button=driver.find_element(By.XPATH,'//a[@class=\"_1LKTO3\"]')\n",
    "    next_button.click()\n",
    "    time.sleep(3)"
   ]
  },
  {
   "cell_type": "code",
   "execution_count": 14,
   "id": "35c702c0",
   "metadata": {},
   "outputs": [
    {
     "data": {
      "text/plain": [
       "156"
      ]
     },
     "execution_count": 14,
     "metadata": {},
     "output_type": "execute_result"
    }
   ],
   "source": [
    "len(product_description)"
   ]
  },
  {
   "cell_type": "code",
   "execution_count": 15,
   "id": "b4741a2b",
   "metadata": {},
   "outputs": [],
   "source": [
    "start=0\n",
    "end=3\n",
    "for page in range(start,end)[0:100]:\n",
    "    pr=driver.find_elements(By.XPATH,'//div[@class=\"_25b18c\"]')\n",
    "    for i in pr:\n",
    "        prices.append(i.text)\n",
    "    next_button=driver.find_element(By.XPATH,'//a[@class=\"_1LKTO3\"]')\n",
    "    next_button.click()\n",
    "    time.sleep(3)"
   ]
  },
  {
   "cell_type": "code",
   "execution_count": 16,
   "id": "bd2039f3",
   "metadata": {},
   "outputs": [
    {
     "data": {
      "text/plain": [
       "(160, 156, 180)"
      ]
     },
     "execution_count": 16,
     "metadata": {},
     "output_type": "execute_result"
    }
   ],
   "source": [
    "length=(len(brand),len(product_description),len(prices))\n",
    "length"
   ]
  },
  {
   "cell_type": "code",
   "execution_count": 17,
   "id": "7941304a",
   "metadata": {},
   "outputs": [
    {
     "data": {
      "text/html": [
       "<div>\n",
       "<style scoped>\n",
       "    .dataframe tbody tr th:only-of-type {\n",
       "        vertical-align: middle;\n",
       "    }\n",
       "\n",
       "    .dataframe tbody tr th {\n",
       "        vertical-align: top;\n",
       "    }\n",
       "\n",
       "    .dataframe thead th {\n",
       "        text-align: right;\n",
       "    }\n",
       "</style>\n",
       "<table border=\"1\" class=\"dataframe\">\n",
       "  <thead>\n",
       "    <tr style=\"text-align: right;\">\n",
       "      <th></th>\n",
       "      <th>BRAND</th>\n",
       "      <th>PRODUCT_DESCRIPTION</th>\n",
       "      <th>PRICES</th>\n",
       "    </tr>\n",
       "  </thead>\n",
       "  <tbody>\n",
       "    <tr>\n",
       "      <th>0</th>\n",
       "      <td>VINCENT CHASE</td>\n",
       "      <td>by Lenskart Polarized, UV Protection Retro Squ...</td>\n",
       "      <td>₹999₹1,99950% off</td>\n",
       "    </tr>\n",
       "    <tr>\n",
       "      <th>1</th>\n",
       "      <td>VINCENT CHASE</td>\n",
       "      <td>Polarized, UV Protection Round Sunglasses (50)</td>\n",
       "      <td>₹829₹1,99958% off</td>\n",
       "    </tr>\n",
       "    <tr>\n",
       "      <th>2</th>\n",
       "      <td>Elligator</td>\n",
       "      <td>UV Protection Cat-eye, Retro Square, Oval, Rou...</td>\n",
       "      <td>₹149₹59975% off</td>\n",
       "    </tr>\n",
       "    <tr>\n",
       "      <th>3</th>\n",
       "      <td>PIRASO</td>\n",
       "      <td>UV Protection Aviator Sunglasses (58)</td>\n",
       "      <td>₹274₹2,59989% off</td>\n",
       "    </tr>\n",
       "    <tr>\n",
       "      <th>4</th>\n",
       "      <td>SRPM</td>\n",
       "      <td>UV Protection Wayfarer Sunglasses (50)</td>\n",
       "      <td>₹149₹1,29988% off</td>\n",
       "    </tr>\n",
       "    <tr>\n",
       "      <th>...</th>\n",
       "      <td>...</td>\n",
       "      <td>...</td>\n",
       "      <td>...</td>\n",
       "    </tr>\n",
       "    <tr>\n",
       "      <th>95</th>\n",
       "      <td>DEIXELS</td>\n",
       "      <td>UV Protection Aviator Sunglasses (Free Size)</td>\n",
       "      <td>₹397₹2,49984% off</td>\n",
       "    </tr>\n",
       "    <tr>\n",
       "      <th>96</th>\n",
       "      <td>Fastrack</td>\n",
       "      <td>UV Protection Clubmaster Sunglasses (54)</td>\n",
       "      <td>₹283₹1,29978% off</td>\n",
       "    </tr>\n",
       "    <tr>\n",
       "      <th>97</th>\n",
       "      <td>PIRASO</td>\n",
       "      <td>UV Protection Wayfarer Sunglasses (57)</td>\n",
       "      <td>₹391₹1,99980% off</td>\n",
       "    </tr>\n",
       "    <tr>\n",
       "      <th>98</th>\n",
       "      <td>NuVew</td>\n",
       "      <td>UV Protection Sports Sunglasses (65)</td>\n",
       "      <td>₹799₹1,99960% off</td>\n",
       "    </tr>\n",
       "    <tr>\n",
       "      <th>99</th>\n",
       "      <td>OAKLEY</td>\n",
       "      <td>UV Protection Rectangular Sunglasses (Free Size)</td>\n",
       "      <td>₹632₹79920% off</td>\n",
       "    </tr>\n",
       "  </tbody>\n",
       "</table>\n",
       "<p>100 rows × 3 columns</p>\n",
       "</div>"
      ],
      "text/plain": [
       "            BRAND                                PRODUCT_DESCRIPTION  \\\n",
       "0   VINCENT CHASE  by Lenskart Polarized, UV Protection Retro Squ...   \n",
       "1   VINCENT CHASE     Polarized, UV Protection Round Sunglasses (50)   \n",
       "2       Elligator  UV Protection Cat-eye, Retro Square, Oval, Rou...   \n",
       "3          PIRASO              UV Protection Aviator Sunglasses (58)   \n",
       "4            SRPM             UV Protection Wayfarer Sunglasses (50)   \n",
       "..            ...                                                ...   \n",
       "95        DEIXELS       UV Protection Aviator Sunglasses (Free Size)   \n",
       "96       Fastrack           UV Protection Clubmaster Sunglasses (54)   \n",
       "97         PIRASO             UV Protection Wayfarer Sunglasses (57)   \n",
       "98          NuVew               UV Protection Sports Sunglasses (65)   \n",
       "99         OAKLEY   UV Protection Rectangular Sunglasses (Free Size)   \n",
       "\n",
       "               PRICES  \n",
       "0   ₹999₹1,99950% off  \n",
       "1   ₹829₹1,99958% off  \n",
       "2     ₹149₹59975% off  \n",
       "3   ₹274₹2,59989% off  \n",
       "4   ₹149₹1,29988% off  \n",
       "..                ...  \n",
       "95  ₹397₹2,49984% off  \n",
       "96  ₹283₹1,29978% off  \n",
       "97  ₹391₹1,99980% off  \n",
       "98  ₹799₹1,99960% off  \n",
       "99    ₹632₹79920% off  \n",
       "\n",
       "[100 rows x 3 columns]"
      ]
     },
     "execution_count": 17,
     "metadata": {},
     "output_type": "execute_result"
    }
   ],
   "source": [
    "df=pd.DataFrame({'BRAND':brand[0:100],'PRODUCT_DESCRIPTION':product_description[0:100],'PRICES':prices[0:100]})\n",
    "df"
   ]
  },
  {
   "cell_type": "code",
   "execution_count": null,
   "id": "94aa62d9",
   "metadata": {},
   "outputs": [],
   "source": []
  }
 ],
 "metadata": {
  "kernelspec": {
   "display_name": "Python 3 (ipykernel)",
   "language": "python",
   "name": "python3"
  },
  "language_info": {
   "codemirror_mode": {
    "name": "ipython",
    "version": 3
   },
   "file_extension": ".py",
   "mimetype": "text/x-python",
   "name": "python",
   "nbconvert_exporter": "python",
   "pygments_lexer": "ipython3",
   "version": "3.9.13"
  }
 },
 "nbformat": 4,
 "nbformat_minor": 5
}
