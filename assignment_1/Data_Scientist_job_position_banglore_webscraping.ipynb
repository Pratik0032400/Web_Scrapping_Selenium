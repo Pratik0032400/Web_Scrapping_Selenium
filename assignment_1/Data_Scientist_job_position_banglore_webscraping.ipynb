{
 "cells": [
  {
   "cell_type": "code",
   "execution_count": 1,
   "id": "cc9119cd",
   "metadata": {},
   "outputs": [],
   "source": [
    "#Q2: Write a python program to scrape data for “Data Scientist” Job position in “Bangalore” location. You have to scrape the \n",
    "    #job-title, job-location, company_name. You have to scrape first 10 jobs data. This task will be done in following steps:\n",
    "#1. First get the webpage https://www.naukri.com/ \n",
    "#2.  Enter “Data Scientist” in “Skill, Designations, Companies” field and enter “Bangalore” in “enter the location” field. \n",
    "#3. Then click the search button. \n",
    "#4. Then scrape the data for the first 10 jobs results you get. \n",
    "#5. Finally create a dataframe of the scraped data. "
   ]
  },
  {
   "cell_type": "code",
   "execution_count": 2,
   "id": "8b8fdc30",
   "metadata": {},
   "outputs": [],
   "source": [
    "import selenium\n",
    "import pandas as pd\n",
    "from selenium import webdriver\n",
    "import warnings\n",
    "warnings.filterwarnings('ignore')\n",
    "from selenium.common.exceptions import StaleElementReferenceException, NoSuchElementException\n",
    "from selenium.webdriver.common.by import By\n",
    "import time"
   ]
  },
  {
   "cell_type": "code",
   "execution_count": 3,
   "id": "b11f8293",
   "metadata": {},
   "outputs": [],
   "source": [
    "web='https://chromedriver.chromium.org/downloads'"
   ]
  },
  {
   "cell_type": "code",
   "execution_count": 4,
   "id": "d8991e2a",
   "metadata": {},
   "outputs": [],
   "source": [
    "driver=webdriver.Chrome(r\"web\")"
   ]
  },
  {
   "cell_type": "code",
   "execution_count": 5,
   "id": "f52dce1d",
   "metadata": {},
   "outputs": [],
   "source": [
    "driver.get(\"https://www.naukri.com/\")"
   ]
  },
  {
   "cell_type": "code",
   "execution_count": 6,
   "id": "718b0f0d",
   "metadata": {},
   "outputs": [],
   "source": [
    "skill=driver.find_element(By.CLASS_NAME,\"suggestor-input\")\n",
    "skill.send_keys('Data Scientist')"
   ]
  },
  {
   "cell_type": "code",
   "execution_count": 7,
   "id": "e9af3fee",
   "metadata": {},
   "outputs": [],
   "source": [
    "location=driver.find_element(By.XPATH,\"/html/body/div[1]/div[6]/div/div/div[5]/div/div/div/input\")\n",
    "location.send_keys('Banglore')"
   ]
  },
  {
   "cell_type": "code",
   "execution_count": 8,
   "id": "1c476a39",
   "metadata": {},
   "outputs": [],
   "source": [
    "search=driver.find_element(By.CLASS_NAME,\"qsbSubmit\")\n",
    "search.click()"
   ]
  },
  {
   "cell_type": "code",
   "execution_count": 9,
   "id": "7a29b576",
   "metadata": {},
   "outputs": [],
   "source": [
    "# create Empty list\n",
    "job_title = []\n",
    "job_location = []\n",
    "company_name = []"
   ]
  },
  {
   "cell_type": "code",
   "execution_count": 13,
   "id": "5fcdcb78",
   "metadata": {},
   "outputs": [],
   "source": [
    "#scraping job title from the given page  Title_tags - givenpath\n",
    "title_tags=driver.find_elements(By.XPATH,'//a[@class=\"title ellipsis\"]')\n",
    "for i in title_tags[0:10]:\n",
    "    title=i.text\n",
    "    job_title.append(title)\n",
    "\n",
    "#scraping location from the given page\n",
    "location_tags=driver.find_elements(By.XPATH,'//span[@class=\"ellipsis fleft locWdth\"]')\n",
    "for i in location_tags[0:10]:\n",
    "    location=i.text\n",
    "    job_location.append(location)\n",
    "    \n",
    "#scraping comapny name from the given pages\n",
    "company_tags=driver.find_elements(By.XPATH,'//a[@class=\"subTitle ellipsis fleft\"]')\n",
    "for i in company_tags[0:10]:\n",
    "    company=i.text\n",
    "    company_name.append(company)"
   ]
  },
  {
   "cell_type": "code",
   "execution_count": 14,
   "id": "25adc663",
   "metadata": {},
   "outputs": [
    {
     "name": "stdout",
     "output_type": "stream",
     "text": [
      "10 10 10\n"
     ]
    }
   ],
   "source": [
    "print(len(job_title),len(job_location),len(company_name))"
   ]
  },
  {
   "cell_type": "code",
   "execution_count": 15,
   "id": "9583a0f7",
   "metadata": {},
   "outputs": [
    {
     "data": {
      "text/html": [
       "<div>\n",
       "<style scoped>\n",
       "    .dataframe tbody tr th:only-of-type {\n",
       "        vertical-align: middle;\n",
       "    }\n",
       "\n",
       "    .dataframe tbody tr th {\n",
       "        vertical-align: top;\n",
       "    }\n",
       "\n",
       "    .dataframe thead th {\n",
       "        text-align: right;\n",
       "    }\n",
       "</style>\n",
       "<table border=\"1\" class=\"dataframe\">\n",
       "  <thead>\n",
       "    <tr style=\"text-align: right;\">\n",
       "      <th></th>\n",
       "      <th>Title</th>\n",
       "      <th>Location</th>\n",
       "      <th>Company_tags</th>\n",
       "    </tr>\n",
       "  </thead>\n",
       "  <tbody>\n",
       "    <tr>\n",
       "      <th>0</th>\n",
       "      <td>Data Science Specialist</td>\n",
       "      <td>Kolkata, Mumbai, Hyderabad/Secunderabad, Pune,...</td>\n",
       "      <td>Accenture</td>\n",
       "    </tr>\n",
       "    <tr>\n",
       "      <th>1</th>\n",
       "      <td>Analystics &amp; Modeling Specialist</td>\n",
       "      <td>Kolkata, Mumbai, Hyderabad/Secunderabad, Pune,...</td>\n",
       "      <td>Accenture</td>\n",
       "    </tr>\n",
       "    <tr>\n",
       "      <th>2</th>\n",
       "      <td>Data Scientist</td>\n",
       "      <td>Hybrid - Kolkata, Hyderabad/Secunderabad, Pune...</td>\n",
       "      <td>Cognizant</td>\n",
       "    </tr>\n",
       "    <tr>\n",
       "      <th>3</th>\n",
       "      <td>Staff Data Scientist</td>\n",
       "      <td>Mumbai, Bangalore/Bengaluru</td>\n",
       "      <td>Baker Hughes</td>\n",
       "    </tr>\n",
       "    <tr>\n",
       "      <th>4</th>\n",
       "      <td>Sr. Data scientist</td>\n",
       "      <td>Hyderabad/Secunderabad, Bangalore/Bengaluru, M...</td>\n",
       "      <td>Tata Consultancy Services (TCS)</td>\n",
       "    </tr>\n",
       "    <tr>\n",
       "      <th>5</th>\n",
       "      <td>Data Scientist</td>\n",
       "      <td>Noida, Kolkata, Mumbai, Hyderabad/Secunderabad...</td>\n",
       "      <td>Capgemini</td>\n",
       "    </tr>\n",
       "    <tr>\n",
       "      <th>6</th>\n",
       "      <td>Lead Data Scientist</td>\n",
       "      <td>Noida, Hyderabad/Secunderabad, Pune, Chennai, ...</td>\n",
       "      <td>Birlasoft</td>\n",
       "    </tr>\n",
       "    <tr>\n",
       "      <th>7</th>\n",
       "      <td>Expert Data Scientist</td>\n",
       "      <td>Mumbai, Bangalore/Bengaluru</td>\n",
       "      <td>UPL Limited</td>\n",
       "    </tr>\n",
       "    <tr>\n",
       "      <th>8</th>\n",
       "      <td>Data Scientist Architect</td>\n",
       "      <td>Temp. WFH - Hyderabad/Secunderabad, Bangalore/...</td>\n",
       "      <td>Brace Infotech</td>\n",
       "    </tr>\n",
       "    <tr>\n",
       "      <th>9</th>\n",
       "      <td>Data Scientist</td>\n",
       "      <td>Noida, Indore, Pune, Gurgaon/Gurugram, Bangalo...</td>\n",
       "      <td>Impetus Technologies</td>\n",
       "    </tr>\n",
       "  </tbody>\n",
       "</table>\n",
       "</div>"
      ],
      "text/plain": [
       "                              Title  \\\n",
       "0           Data Science Specialist   \n",
       "1  Analystics & Modeling Specialist   \n",
       "2                    Data Scientist   \n",
       "3              Staff Data Scientist   \n",
       "4                Sr. Data scientist   \n",
       "5                    Data Scientist   \n",
       "6               Lead Data Scientist   \n",
       "7             Expert Data Scientist   \n",
       "8          Data Scientist Architect   \n",
       "9                    Data Scientist   \n",
       "\n",
       "                                            Location  \\\n",
       "0  Kolkata, Mumbai, Hyderabad/Secunderabad, Pune,...   \n",
       "1  Kolkata, Mumbai, Hyderabad/Secunderabad, Pune,...   \n",
       "2  Hybrid - Kolkata, Hyderabad/Secunderabad, Pune...   \n",
       "3                        Mumbai, Bangalore/Bengaluru   \n",
       "4  Hyderabad/Secunderabad, Bangalore/Bengaluru, M...   \n",
       "5  Noida, Kolkata, Mumbai, Hyderabad/Secunderabad...   \n",
       "6  Noida, Hyderabad/Secunderabad, Pune, Chennai, ...   \n",
       "7                        Mumbai, Bangalore/Bengaluru   \n",
       "8  Temp. WFH - Hyderabad/Secunderabad, Bangalore/...   \n",
       "9  Noida, Indore, Pune, Gurgaon/Gurugram, Bangalo...   \n",
       "\n",
       "                      Company_tags  \n",
       "0                        Accenture  \n",
       "1                        Accenture  \n",
       "2                        Cognizant  \n",
       "3                     Baker Hughes  \n",
       "4  Tata Consultancy Services (TCS)  \n",
       "5                        Capgemini  \n",
       "6                        Birlasoft  \n",
       "7                      UPL Limited  \n",
       "8                   Brace Infotech  \n",
       "9             Impetus Technologies  "
      ]
     },
     "execution_count": 15,
     "metadata": {},
     "output_type": "execute_result"
    }
   ],
   "source": [
    "import pandas as pd\n",
    "df=pd.DataFrame({'Title':job_title,'Location':job_location,'Company_tags':company_name})\n",
    "df"
   ]
  },
  {
   "cell_type": "code",
   "execution_count": null,
   "id": "076fe52a",
   "metadata": {},
   "outputs": [],
   "source": []
  }
 ],
 "metadata": {
  "kernelspec": {
   "display_name": "Python 3 (ipykernel)",
   "language": "python",
   "name": "python3"
  },
  "language_info": {
   "codemirror_mode": {
    "name": "ipython",
    "version": 3
   },
   "file_extension": ".py",
   "mimetype": "text/x-python",
   "name": "python",
   "nbconvert_exporter": "python",
   "pygments_lexer": "ipython3",
   "version": "3.9.13"
  }
 },
 "nbformat": 4,
 "nbformat_minor": 5
}
