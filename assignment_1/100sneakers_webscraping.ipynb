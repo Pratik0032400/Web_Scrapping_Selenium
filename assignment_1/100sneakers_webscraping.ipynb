{
 "cells": [
  {
   "cell_type": "code",
   "execution_count": 1,
   "id": "98c21569",
   "metadata": {},
   "outputs": [],
   "source": [
    "# Scrape data for first 100 sneakers you find when you visit flipkart.com and search for “sneakers” in the search field. \n",
    "#You have to scrape 3 attributes of each sneaker: \n",
    "#1. Brand \n",
    "#2. Product Description \n",
    "#3. Price "
   ]
  },
  {
   "cell_type": "code",
   "execution_count": 2,
   "id": "44f4fe88",
   "metadata": {},
   "outputs": [],
   "source": [
    "import selenium\n",
    "import pandas as pd\n",
    "from selenium import webdriver\n",
    "import warnings\n",
    "warnings.filterwarnings('ignore')\n",
    "from selenium.common.exceptions import StaleElementReferenceException, NoSuchElementException\n",
    "from selenium.webdriver.common.by import By\n",
    "import time"
   ]
  },
  {
   "cell_type": "code",
   "execution_count": 3,
   "id": "bbe7488e",
   "metadata": {},
   "outputs": [],
   "source": [
    "web='https://chromedriver.chromium.org/downloads'"
   ]
  },
  {
   "cell_type": "code",
   "execution_count": 4,
   "id": "2e6b1de8",
   "metadata": {},
   "outputs": [],
   "source": [
    "driver=webdriver.Chrome(r\"C:\\Users\\Pratik Shukla\\Downloads\\FLIP ROBO\\chromedriver.exe\")"
   ]
  },
  {
   "cell_type": "code",
   "execution_count": 5,
   "id": "b250cfe2",
   "metadata": {},
   "outputs": [],
   "source": [
    "driver.get(\"https://www.flipkart.com/\")"
   ]
  },
  {
   "cell_type": "code",
   "execution_count": 6,
   "id": "2cfeca65",
   "metadata": {},
   "outputs": [],
   "source": [
    "designation=driver.find_element(By.CLASS_NAME,\"_3704LK\")\n",
    "designation.send_keys('sneakers')"
   ]
  },
  {
   "cell_type": "code",
   "execution_count": 8,
   "id": "a30e3cd9",
   "metadata": {},
   "outputs": [],
   "source": [
    "search=driver.find_element(By.CLASS_NAME,\"_34RNph\")\n",
    "search.click()"
   ]
  },
  {
   "cell_type": "code",
   "execution_count": 9,
   "id": "96bb281d",
   "metadata": {},
   "outputs": [],
   "source": [
    "# create Empty list\n",
    "brand_tag = []\n",
    "product_description = []\n",
    "price_tag = []"
   ]
  },
  {
   "cell_type": "code",
   "execution_count": 10,
   "id": "f7a9d640",
   "metadata": {},
   "outputs": [],
   "source": [
    "brand_tags=driver.find_elements(By.XPATH,'//div[@class=\"_2WkVRV\"]')\n",
    "for i in brand_tags:\n",
    "    br=(i.text)\n",
    "    brand_tag.append(br)"
   ]
  },
  {
   "cell_type": "code",
   "execution_count": 11,
   "id": "3f78f11f",
   "metadata": {},
   "outputs": [],
   "source": [
    "pro_tags=driver.find_elements(By.XPATH,'//a[@class=\"IRpwTa\"]')\n",
    "for i in pro_tags:\n",
    "    pr=(i.text)\n",
    "    product_description.append(pr)"
   ]
  },
  {
   "cell_type": "code",
   "execution_count": 12,
   "id": "c74c6c6b",
   "metadata": {},
   "outputs": [],
   "source": [
    "price_tags=driver.find_elements(By.XPATH,'//a[@class=\"IRpwTa\"]')\n",
    "for i in pro_tags:\n",
    "    prc=(i.text)\n",
    "    price_tag.append(prc)"
   ]
  },
  {
   "cell_type": "code",
   "execution_count": 13,
   "id": "8d630209",
   "metadata": {},
   "outputs": [],
   "source": [
    "start=0\n",
    "end=2\n",
    "for page in range(start,end):\n",
    "    titles=driver.find_elements(By.XPATH,'//div[@class=\"_2WkVRV\"]')\n",
    "    for i in titles:\n",
    "        brand_tag.append(i.text)\n",
    "    next_button=driver.find_element(By.XPATH,'//a[@class=\"_1LKTO3\"]')\n",
    "    next_button.click()\n",
    "    time.sleep(3)"
   ]
  },
  {
   "cell_type": "code",
   "execution_count": 14,
   "id": "9f91a80e",
   "metadata": {},
   "outputs": [],
   "source": [
    "start=0\n",
    "end=2\n",
    "for page in range(start,end):\n",
    "    tit=driver.find_elements(By.XPATH,'//a[@class=\"IRpwTa\"]')\n",
    "    for i in tit:\n",
    "        product_description.append(i.text)\n",
    "    next_button=driver.find_element(By.XPATH,'//a[@class=\"_1LKTO3\"]')\n",
    "    next_button.click()\n",
    "    time.sleep(3)"
   ]
  },
  {
   "cell_type": "code",
   "execution_count": 15,
   "id": "c5a8f8cc",
   "metadata": {},
   "outputs": [],
   "source": [
    "start=0\n",
    "end=2\n",
    "for page in range(start,end):\n",
    "    t=driver.find_elements(By.XPATH,'//a[@class=\"IRpwTa\"]')\n",
    "    for i in t:\n",
    "        price_tag.append(i.text)\n",
    "    next_button=driver.find_element(By.XPATH,'//a[@class=\"_1LKTO3\"]')\n",
    "    next_button.click()\n",
    "    time.sleep(3)"
   ]
  },
  {
   "cell_type": "code",
   "execution_count": 16,
   "id": "e258a27f",
   "metadata": {},
   "outputs": [
    {
     "data": {
      "text/plain": [
       "(120, 120, 120)"
      ]
     },
     "execution_count": 16,
     "metadata": {},
     "output_type": "execute_result"
    }
   ],
   "source": [
    "len(brand_tag),len(product_description),len(price_tag)"
   ]
  },
  {
   "cell_type": "code",
   "execution_count": 18,
   "id": "500f9901",
   "metadata": {},
   "outputs": [
    {
     "data": {
      "text/html": [
       "<div>\n",
       "<style scoped>\n",
       "    .dataframe tbody tr th:only-of-type {\n",
       "        vertical-align: middle;\n",
       "    }\n",
       "\n",
       "    .dataframe tbody tr th {\n",
       "        vertical-align: top;\n",
       "    }\n",
       "\n",
       "    .dataframe thead th {\n",
       "        text-align: right;\n",
       "    }\n",
       "</style>\n",
       "<table border=\"1\" class=\"dataframe\">\n",
       "  <thead>\n",
       "    <tr style=\"text-align: right;\">\n",
       "      <th></th>\n",
       "      <th>BRAND</th>\n",
       "      <th>PRODUCT_DETAIL</th>\n",
       "      <th>PRICE</th>\n",
       "    </tr>\n",
       "  </thead>\n",
       "  <tbody>\n",
       "    <tr>\n",
       "      <th>0</th>\n",
       "      <td>BIRDE</td>\n",
       "      <td>Sneakers For Women</td>\n",
       "      <td>Sneakers For Women</td>\n",
       "    </tr>\n",
       "    <tr>\n",
       "      <th>1</th>\n",
       "      <td>SFR</td>\n",
       "      <td>Sneakers For Men</td>\n",
       "      <td>Sneakers For Men</td>\n",
       "    </tr>\n",
       "    <tr>\n",
       "      <th>2</th>\n",
       "      <td>BIRDE</td>\n",
       "      <td>Combo Pack of 2 Casual Shoes Sneakers For Men</td>\n",
       "      <td>Combo Pack of 2 Casual Shoes Sneakers For Men</td>\n",
       "    </tr>\n",
       "    <tr>\n",
       "      <th>3</th>\n",
       "      <td>SFR</td>\n",
       "      <td>Sneakers For Men</td>\n",
       "      <td>Sneakers For Men</td>\n",
       "    </tr>\n",
       "    <tr>\n",
       "      <th>4</th>\n",
       "      <td>Shozie</td>\n",
       "      <td>Stylish Sneakers Shoes for Women And Girls Sne...</td>\n",
       "      <td>Stylish Sneakers Shoes for Women And Girls Sne...</td>\n",
       "    </tr>\n",
       "    <tr>\n",
       "      <th>...</th>\n",
       "      <td>...</td>\n",
       "      <td>...</td>\n",
       "      <td>...</td>\n",
       "    </tr>\n",
       "    <tr>\n",
       "      <th>95</th>\n",
       "      <td>BERSACHE</td>\n",
       "      <td>Bersache Casual Shoes For Men Waliking,Sneaker...</td>\n",
       "      <td>Bersache Casual Shoes For Men Waliking,Sneaker...</td>\n",
       "    </tr>\n",
       "    <tr>\n",
       "      <th>96</th>\n",
       "      <td>Sparx</td>\n",
       "      <td>SM-671 Sneakers For Men</td>\n",
       "      <td>SM-671 Sneakers For Men</td>\n",
       "    </tr>\n",
       "    <tr>\n",
       "      <th>97</th>\n",
       "      <td>ORICUM</td>\n",
       "      <td>Oricum Casual Shoes Walking ,Sneakers Canvas c...</td>\n",
       "      <td>Oricum Casual Shoes Walking ,Sneakers Canvas c...</td>\n",
       "    </tr>\n",
       "    <tr>\n",
       "      <th>98</th>\n",
       "      <td>Layasa</td>\n",
       "      <td>Sneakers For Women</td>\n",
       "      <td>Sneakers For Women</td>\n",
       "    </tr>\n",
       "    <tr>\n",
       "      <th>99</th>\n",
       "      <td>HRX by Hrithik Roshan</td>\n",
       "      <td>Sneakers For Men</td>\n",
       "      <td>Sneakers For Men</td>\n",
       "    </tr>\n",
       "  </tbody>\n",
       "</table>\n",
       "<p>100 rows × 3 columns</p>\n",
       "</div>"
      ],
      "text/plain": [
       "                    BRAND                                     PRODUCT_DETAIL  \\\n",
       "0                   BIRDE                                 Sneakers For Women   \n",
       "1                     SFR                                   Sneakers For Men   \n",
       "2                   BIRDE      Combo Pack of 2 Casual Shoes Sneakers For Men   \n",
       "3                     SFR                                   Sneakers For Men   \n",
       "4                  Shozie  Stylish Sneakers Shoes for Women And Girls Sne...   \n",
       "..                    ...                                                ...   \n",
       "95               BERSACHE  Bersache Casual Shoes For Men Waliking,Sneaker...   \n",
       "96                  Sparx                            SM-671 Sneakers For Men   \n",
       "97                 ORICUM  Oricum Casual Shoes Walking ,Sneakers Canvas c...   \n",
       "98                 Layasa                                 Sneakers For Women   \n",
       "99  HRX by Hrithik Roshan                                   Sneakers For Men   \n",
       "\n",
       "                                                PRICE  \n",
       "0                                  Sneakers For Women  \n",
       "1                                    Sneakers For Men  \n",
       "2       Combo Pack of 2 Casual Shoes Sneakers For Men  \n",
       "3                                    Sneakers For Men  \n",
       "4   Stylish Sneakers Shoes for Women And Girls Sne...  \n",
       "..                                                ...  \n",
       "95  Bersache Casual Shoes For Men Waliking,Sneaker...  \n",
       "96                            SM-671 Sneakers For Men  \n",
       "97  Oricum Casual Shoes Walking ,Sneakers Canvas c...  \n",
       "98                                 Sneakers For Women  \n",
       "99                                   Sneakers For Men  \n",
       "\n",
       "[100 rows x 3 columns]"
      ]
     },
     "execution_count": 18,
     "metadata": {},
     "output_type": "execute_result"
    }
   ],
   "source": [
    "df=pd.DataFrame({'BRAND':brand_tag[0:100],'PRODUCT_DETAIL':product_description[0:100],'PRICE':price_tag[0:100]})\n",
    "df"
   ]
  },
  {
   "cell_type": "code",
   "execution_count": null,
   "id": "0e9f11e1",
   "metadata": {},
   "outputs": [],
   "source": []
  }
 ],
 "metadata": {
  "kernelspec": {
   "display_name": "Python 3 (ipykernel)",
   "language": "python",
   "name": "python3"
  },
  "language_info": {
   "codemirror_mode": {
    "name": "ipython",
    "version": 3
   },
   "file_extension": ".py",
   "mimetype": "text/x-python",
   "name": "python",
   "nbconvert_exporter": "python",
   "pygments_lexer": "ipython3",
   "version": "3.9.13"
  }
 },
 "nbformat": 4,
 "nbformat_minor": 5
}
